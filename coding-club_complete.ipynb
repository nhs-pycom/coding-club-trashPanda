{
  "nbformat": 4,
  "nbformat_minor": 0,
  "metadata": {
    "language_info": {
      "codemirror_mode": {
        "name": "ipython",
        "version": 3
      },
      "file_extension": ".py",
      "mimetype": "text/x-python",
      "name": "python",
      "nbconvert_exporter": "python",
      "pygments_lexer": "ipython3",
      "version": "3.8.5-final"
    },
    "orig_nbformat": 2,
    "kernelspec": {
      "name": "python3",
      "display_name": "Python 3",
      "language": "python"
    },
    "colab": {
      "name": "coding-club.ipynb",
      "provenance": [],
      "toc_visible": true,
      "include_colab_link": true
    }
  },
  "cells": [
    {
      "cell_type": "markdown",
      "metadata": {
        "id": "view-in-github",
        "colab_type": "text"
      },
      "source": [
        "<a href=\"https://colab.research.google.com/github/nhs-pycom/coding-club-trashPanda/blob/main/coding-club_complete.ipynb\" target=\"_parent\"><img src=\"https://colab.research.google.com/assets/colab-badge.svg\" alt=\"Open In Colab\"/></a>"
      ]
    },
    {
      "cell_type": "markdown",
      "metadata": {
        "id": "H9K3whwtYBFr"
      },
      "source": [
        "# Welcome to NHSX Coding Club\r\n",
        "\r\n",
        "## Lesson One: trashPanda\r\n",
        "\r\n",
        "### Pandas for excel"
      ]
    },
    {
      "cell_type": "code",
      "metadata": {
        "colab": {
          "base_uri": "https://localhost:8080/"
        },
        "id": "U-ZQGbA4YUPb",
        "outputId": "df9815ed-014a-4489-8bf6-6d97e723d974"
      },
      "source": [
        "# clone coding club repo to google colab\r\n",
        "!git clone -l -s git://github.com/nhs-pycom/coding-club-trashPanda.git cloned-repo\r\n",
        "%cd cloned-repo\r\n",
        "!ls"
      ],
      "execution_count": 1,
      "outputs": [
        {
          "output_type": "stream",
          "text": [
            "Cloning into 'cloned-repo'...\n",
            "warning: --local is ignored\n",
            "remote: Enumerating objects: 45, done.\u001b[K\n",
            "remote: Counting objects: 100% (45/45), done.\u001b[K\n",
            "remote: Compressing objects: 100% (38/38), done.\u001b[K\n",
            "remote: Total 45 (delta 17), reused 20 (delta 7), pack-reused 0\u001b[K\n",
            "Receiving objects: 100% (45/45), 79.93 KiB | 649.00 KiB/s, done.\n",
            "Resolving deltas: 100% (17/17), done.\n",
            "/content/cloned-repo\n",
            "coding-club_complete.ipynb  coding-club.ipynb  data  LICENSE  README.md\n"
          ],
          "name": "stdout"
        }
      ]
    },
    {
      "cell_type": "code",
      "metadata": {
        "colab": {
          "base_uri": "https://localhost:8080/",
          "height": 319
        },
        "id": "_yoSwdH7ZZ0k",
        "outputId": "5cbbec11-84c9-4a63-b597-63a636547f57"
      },
      "source": [
        "import pandas as pd\r\n",
        "pd.set_option(\"display.max.columns\", None) # show all columns in dataframe\r\n",
        "\r\n",
        "# read an excel file from repo /data/ folder\r\n",
        "path = '/content/cloned-repo/data/tabular structure/Q1 Returns/Jan 2021.xlsx'\r\n",
        "df = pd.read_excel(path)\r\n",
        "df.head()"
      ],
      "execution_count": 28,
      "outputs": [
        {
          "output_type": "execute_result",
          "data": {
            "text/html": [
              "<div>\n",
              "<style scoped>\n",
              "    .dataframe tbody tr th:only-of-type {\n",
              "        vertical-align: middle;\n",
              "    }\n",
              "\n",
              "    .dataframe tbody tr th {\n",
              "        vertical-align: top;\n",
              "    }\n",
              "\n",
              "    .dataframe thead th {\n",
              "        text-align: right;\n",
              "    }\n",
              "</style>\n",
              "<table border=\"1\" class=\"dataframe\">\n",
              "  <thead>\n",
              "    <tr style=\"text-align: right;\">\n",
              "      <th></th>\n",
              "      <th>Org name:</th>\n",
              "      <th>Population:</th>\n",
              "      <th>Number of users:</th>\n",
              "      <th>Completed by:</th>\n",
              "      <th>Number of deployments:</th>\n",
              "      <th>Number of unique users:</th>\n",
              "      <th>Area name:</th>\n",
              "      <th>Number of records:</th>\n",
              "      <th>Number of views:</th>\n",
              "      <th>Date completed:</th>\n",
              "      <th>Number of errors:</th>\n",
              "    </tr>\n",
              "  </thead>\n",
              "  <tbody>\n",
              "    <tr>\n",
              "      <th>0</th>\n",
              "      <td>NHS CCG80</td>\n",
              "      <td>5028324</td>\n",
              "      <td>7580834</td>\n",
              "      <td>User51</td>\n",
              "      <td>573766</td>\n",
              "      <td>7916889</td>\n",
              "      <td>LA19</td>\n",
              "      <td>4836331</td>\n",
              "      <td>75242</td>\n",
              "      <td>2021-01-01</td>\n",
              "      <td>4337039</td>\n",
              "    </tr>\n",
              "    <tr>\n",
              "      <th>1</th>\n",
              "      <td>NHS CCG30</td>\n",
              "      <td>5576609</td>\n",
              "      <td>6015460</td>\n",
              "      <td>User18</td>\n",
              "      <td>9008336</td>\n",
              "      <td>5566608</td>\n",
              "      <td>LA82</td>\n",
              "      <td>1071840</td>\n",
              "      <td>8327830</td>\n",
              "      <td>2021-01-02</td>\n",
              "      <td>1235495</td>\n",
              "    </tr>\n",
              "    <tr>\n",
              "      <th>2</th>\n",
              "      <td>NHS CCG14</td>\n",
              "      <td>7003085</td>\n",
              "      <td>3030247</td>\n",
              "      <td>User13</td>\n",
              "      <td>4766644</td>\n",
              "      <td>2736534</td>\n",
              "      <td>LA69</td>\n",
              "      <td>1595565</td>\n",
              "      <td>8780011</td>\n",
              "      <td>2021-01-03</td>\n",
              "      <td>9508660</td>\n",
              "    </tr>\n",
              "    <tr>\n",
              "      <th>3</th>\n",
              "      <td>NHS CCG79</td>\n",
              "      <td>6442678</td>\n",
              "      <td>917949</td>\n",
              "      <td>User35</td>\n",
              "      <td>9251515</td>\n",
              "      <td>8881993</td>\n",
              "      <td>LA42</td>\n",
              "      <td>5903625</td>\n",
              "      <td>3382736</td>\n",
              "      <td>2021-01-04</td>\n",
              "      <td>9574924</td>\n",
              "    </tr>\n",
              "    <tr>\n",
              "      <th>4</th>\n",
              "      <td>NHS CCG88</td>\n",
              "      <td>6086618</td>\n",
              "      <td>7182337</td>\n",
              "      <td>User62</td>\n",
              "      <td>2341285</td>\n",
              "      <td>3065153</td>\n",
              "      <td>LA38</td>\n",
              "      <td>5014954</td>\n",
              "      <td>7751733</td>\n",
              "      <td>2021-01-05</td>\n",
              "      <td>9415369</td>\n",
              "    </tr>\n",
              "  </tbody>\n",
              "</table>\n",
              "</div>"
            ],
            "text/plain": [
              "   Org name:  Population:  Number of users: Completed by:  \\\n",
              "0  NHS CCG80      5028324           7580834        User51   \n",
              "1  NHS CCG30      5576609           6015460        User18   \n",
              "2  NHS CCG14      7003085           3030247        User13   \n",
              "3  NHS CCG79      6442678            917949        User35   \n",
              "4  NHS CCG88      6086618           7182337        User62   \n",
              "\n",
              "   Number of deployments:  Number of unique users: Area name:  \\\n",
              "0                  573766                  7916889       LA19   \n",
              "1                 9008336                  5566608       LA82   \n",
              "2                 4766644                  2736534       LA69   \n",
              "3                 9251515                  8881993       LA42   \n",
              "4                 2341285                  3065153       LA38   \n",
              "\n",
              "   Number of records:  Number of views: Date completed:  Number of errors:  \n",
              "0             4836331             75242      2021-01-01            4337039  \n",
              "1             1071840           8327830      2021-01-02            1235495  \n",
              "2             1595565           8780011      2021-01-03            9508660  \n",
              "3             5903625           3382736      2021-01-04            9574924  \n",
              "4             5014954           7751733      2021-01-05            9415369  "
            ]
          },
          "metadata": {
            "tags": []
          },
          "execution_count": 28
        }
      ]
    },
    {
      "cell_type": "code",
      "metadata": {
        "colab": {
          "base_uri": "https://localhost:8080/",
          "height": 350
        },
        "id": "1_7vhDULcex4",
        "outputId": "7efcd813-4d1a-4e48-e502-14d32731852c"
      },
      "source": [
        "# specify which sheet to load and index column number (remember index starts at 0 in python)\r\n",
        "df = pd.read_excel(path, sheet_name=0, index_col=0)\r\n",
        "df.head()"
      ],
      "execution_count": 10,
      "outputs": [
        {
          "output_type": "execute_result",
          "data": {
            "text/html": [
              "<div>\n",
              "<style scoped>\n",
              "    .dataframe tbody tr th:only-of-type {\n",
              "        vertical-align: middle;\n",
              "    }\n",
              "\n",
              "    .dataframe tbody tr th {\n",
              "        vertical-align: top;\n",
              "    }\n",
              "\n",
              "    .dataframe thead th {\n",
              "        text-align: right;\n",
              "    }\n",
              "</style>\n",
              "<table border=\"1\" class=\"dataframe\">\n",
              "  <thead>\n",
              "    <tr style=\"text-align: right;\">\n",
              "      <th></th>\n",
              "      <th>Population:</th>\n",
              "      <th>Number of users:</th>\n",
              "      <th>Completed by:</th>\n",
              "      <th>Number of deployments:</th>\n",
              "      <th>Number of unique users:</th>\n",
              "      <th>Area name:</th>\n",
              "      <th>Number of records:</th>\n",
              "      <th>Number of views:</th>\n",
              "      <th>Date completed:</th>\n",
              "      <th>Number of errors:</th>\n",
              "    </tr>\n",
              "    <tr>\n",
              "      <th>Org name:</th>\n",
              "      <th></th>\n",
              "      <th></th>\n",
              "      <th></th>\n",
              "      <th></th>\n",
              "      <th></th>\n",
              "      <th></th>\n",
              "      <th></th>\n",
              "      <th></th>\n",
              "      <th></th>\n",
              "      <th></th>\n",
              "    </tr>\n",
              "  </thead>\n",
              "  <tbody>\n",
              "    <tr>\n",
              "      <th>NHS CCG80</th>\n",
              "      <td>5028324</td>\n",
              "      <td>7580834</td>\n",
              "      <td>User51</td>\n",
              "      <td>573766</td>\n",
              "      <td>7916889</td>\n",
              "      <td>LA19</td>\n",
              "      <td>4836331</td>\n",
              "      <td>75242</td>\n",
              "      <td>2021-01-01</td>\n",
              "      <td>4337039</td>\n",
              "    </tr>\n",
              "    <tr>\n",
              "      <th>NHS CCG30</th>\n",
              "      <td>5576609</td>\n",
              "      <td>6015460</td>\n",
              "      <td>User18</td>\n",
              "      <td>9008336</td>\n",
              "      <td>5566608</td>\n",
              "      <td>LA82</td>\n",
              "      <td>1071840</td>\n",
              "      <td>8327830</td>\n",
              "      <td>2021-01-02</td>\n",
              "      <td>1235495</td>\n",
              "    </tr>\n",
              "    <tr>\n",
              "      <th>NHS CCG14</th>\n",
              "      <td>7003085</td>\n",
              "      <td>3030247</td>\n",
              "      <td>User13</td>\n",
              "      <td>4766644</td>\n",
              "      <td>2736534</td>\n",
              "      <td>LA69</td>\n",
              "      <td>1595565</td>\n",
              "      <td>8780011</td>\n",
              "      <td>2021-01-03</td>\n",
              "      <td>9508660</td>\n",
              "    </tr>\n",
              "    <tr>\n",
              "      <th>NHS CCG79</th>\n",
              "      <td>6442678</td>\n",
              "      <td>917949</td>\n",
              "      <td>User35</td>\n",
              "      <td>9251515</td>\n",
              "      <td>8881993</td>\n",
              "      <td>LA42</td>\n",
              "      <td>5903625</td>\n",
              "      <td>3382736</td>\n",
              "      <td>2021-01-04</td>\n",
              "      <td>9574924</td>\n",
              "    </tr>\n",
              "    <tr>\n",
              "      <th>NHS CCG88</th>\n",
              "      <td>6086618</td>\n",
              "      <td>7182337</td>\n",
              "      <td>User62</td>\n",
              "      <td>2341285</td>\n",
              "      <td>3065153</td>\n",
              "      <td>LA38</td>\n",
              "      <td>5014954</td>\n",
              "      <td>7751733</td>\n",
              "      <td>2021-01-05</td>\n",
              "      <td>9415369</td>\n",
              "    </tr>\n",
              "  </tbody>\n",
              "</table>\n",
              "</div>"
            ],
            "text/plain": [
              "           Population:  Number of users: Completed by:  \\\n",
              "Org name:                                                \n",
              "NHS CCG80      5028324           7580834        User51   \n",
              "NHS CCG30      5576609           6015460        User18   \n",
              "NHS CCG14      7003085           3030247        User13   \n",
              "NHS CCG79      6442678            917949        User35   \n",
              "NHS CCG88      6086618           7182337        User62   \n",
              "\n",
              "           Number of deployments:  Number of unique users: Area name:  \\\n",
              "Org name:                                                               \n",
              "NHS CCG80                  573766                  7916889       LA19   \n",
              "NHS CCG30                 9008336                  5566608       LA82   \n",
              "NHS CCG14                 4766644                  2736534       LA69   \n",
              "NHS CCG79                 9251515                  8881993       LA42   \n",
              "NHS CCG88                 2341285                  3065153       LA38   \n",
              "\n",
              "           Number of records:  Number of views: Date completed:  \\\n",
              "Org name:                                                         \n",
              "NHS CCG80             4836331             75242      2021-01-01   \n",
              "NHS CCG30             1071840           8327830      2021-01-02   \n",
              "NHS CCG14             1595565           8780011      2021-01-03   \n",
              "NHS CCG79             5903625           3382736      2021-01-04   \n",
              "NHS CCG88             5014954           7751733      2021-01-05   \n",
              "\n",
              "           Number of errors:  \n",
              "Org name:                     \n",
              "NHS CCG80            4337039  \n",
              "NHS CCG30            1235495  \n",
              "NHS CCG14            9508660  \n",
              "NHS CCG79            9574924  \n",
              "NHS CCG88            9415369  "
            ]
          },
          "metadata": {
            "tags": []
          },
          "execution_count": 10
        }
      ]
    },
    {
      "cell_type": "code",
      "metadata": {
        "colab": {
          "base_uri": "https://localhost:8080/"
        },
        "id": "Fx5VJiHLdkmI",
        "outputId": "587718f3-37f9-45ef-fc82-3d2c36b55029"
      },
      "source": [
        "df.info()"
      ],
      "execution_count": 11,
      "outputs": [
        {
          "output_type": "stream",
          "text": [
            "<class 'pandas.core.frame.DataFrame'>\n",
            "Index: 11 entries, NHS CCG80 to NHS CCG21\n",
            "Data columns (total 10 columns):\n",
            " #   Column                   Non-Null Count  Dtype         \n",
            "---  ------                   --------------  -----         \n",
            " 0   Population:              11 non-null     int64         \n",
            " 1   Number of users:         11 non-null     int64         \n",
            " 2   Completed by:            11 non-null     object        \n",
            " 3   Number of deployments:   11 non-null     int64         \n",
            " 4   Number of unique users:  11 non-null     int64         \n",
            " 5   Area name:               11 non-null     object        \n",
            " 6   Number of records:       11 non-null     int64         \n",
            " 7   Number of views:         11 non-null     int64         \n",
            " 8   Date completed:          11 non-null     datetime64[ns]\n",
            " 9   Number of errors:        11 non-null     int64         \n",
            "dtypes: datetime64[ns](1), int64(7), object(2)\n",
            "memory usage: 968.0+ bytes\n"
          ],
          "name": "stdout"
        }
      ]
    },
    {
      "cell_type": "code",
      "metadata": {
        "colab": {
          "base_uri": "https://localhost:8080/"
        },
        "id": "OZ8lIm_teN6O",
        "outputId": "eb7959ea-aa90-4445-d0b1-138b04db486b"
      },
      "source": [
        "# basic transformations\r\n",
        "sort_population = df.sort_values(['Population:'], ascending=False)\r\n",
        "sort_population['Population:']"
      ],
      "execution_count": 12,
      "outputs": [
        {
          "output_type": "execute_result",
          "data": {
            "text/plain": [
              "Org name:\n",
              "NHS CCG29    7123329\n",
              "NHS CCG14    7003085\n",
              "NHS CCG79    6442678\n",
              "NHS CCG88    6086618\n",
              "NHS CCG30    5576609\n",
              "NHS CCG21    5474666\n",
              "NHS CCG80    5028324\n",
              "NHS CCG96    4481652\n",
              "NHS CCG87    3907967\n",
              "NHS CCG55    3079321\n",
              "NHS CCG53    2409241\n",
              "Name: Population:, dtype: int64"
            ]
          },
          "metadata": {
            "tags": []
          },
          "execution_count": 12
        }
      ]
    },
    {
      "cell_type": "code",
      "metadata": {
        "colab": {
          "base_uri": "https://localhost:8080/",
          "height": 278
        },
        "id": "7nByE0EofIkC",
        "outputId": "f2ad5732-2505-4962-c271-2d4ec2fa91de"
      },
      "source": [
        "import matplotlib.pyplot as plt\r\n",
        "\r\n",
        "# bar chart\r\n",
        "sort_population['Population:'].plot(kind=\"barh\")\r\n",
        "plt.show()"
      ],
      "execution_count": 13,
      "outputs": [
        {
          "output_type": "display_data",
          "data": {
            "image/png": "[encoded data removed]",
            "text/plain": [
              "<Figure size 432x288 with 1 Axes>"
            ]
          },
          "metadata": {
            "tags": [],
            "needs_background": "light"
          }
        }
      ]
    },
    {
      "cell_type": "code",
      "metadata": {
        "colab": {
          "base_uri": "https://localhost:8080/"
        },
        "id": "-TAzHyENfs-R",
        "outputId": "c3431f3b-14f2-4fe4-c7c3-2e3d0fd2599b"
      },
      "source": [
        "# discriptive statistics\r\n",
        "sort_population['Population:'].describe()"
      ],
      "execution_count": 14,
      "outputs": [
        {
          "output_type": "execute_result",
          "data": {
            "text/plain": [
              "count    1.100000e+01\n",
              "mean     5.146681e+06\n",
              "std      1.548132e+06\n",
              "min      2.409241e+06\n",
              "25%      4.194810e+06\n",
              "50%      5.474666e+06\n",
              "75%      6.264648e+06\n",
              "max      7.123329e+06\n",
              "Name: Population:, dtype: float64"
            ]
          },
          "metadata": {
            "tags": []
          },
          "execution_count": 14
        }
      ]
    },
    {
      "cell_type": "code",
      "metadata": {
        "colab": {
          "base_uri": "https://localhost:8080/"
        },
        "id": "ThChiIlhKBt5",
        "outputId": "de06acb8-1091-419f-fbe7-63a6813959b4"
      },
      "source": [
        "# parse excel file as object\r\n",
        "excel_file = pd.ExcelFile(path)\r\n",
        "excel_file.sheet_names"
      ],
      "execution_count": 19,
      "outputs": [
        {
          "output_type": "execute_result",
          "data": {
            "text/plain": [
              "['CCG1', 'CCG2']"
            ]
          },
          "metadata": {
            "tags": []
          },
          "execution_count": 19
        }
      ]
    },
    {
      "cell_type": "code",
      "metadata": {
        "colab": {
          "base_uri": "https://localhost:8080/",
          "height": 319
        },
        "id": "xY1OYfodMYNg",
        "outputId": "b373e5f0-baf1-4784-d138-6542317453a3"
      },
      "source": [
        "# parse sheet in excel file from sheet names list\r\n",
        "excel_file.parse(excel_file.sheet_names[0]).head()"
      ],
      "execution_count": 29,
      "outputs": [
        {
          "output_type": "execute_result",
          "data": {
            "text/html": [
              "<div>\n",
              "<style scoped>\n",
              "    .dataframe tbody tr th:only-of-type {\n",
              "        vertical-align: middle;\n",
              "    }\n",
              "\n",
              "    .dataframe tbody tr th {\n",
              "        vertical-align: top;\n",
              "    }\n",
              "\n",
              "    .dataframe thead th {\n",
              "        text-align: right;\n",
              "    }\n",
              "</style>\n",
              "<table border=\"1\" class=\"dataframe\">\n",
              "  <thead>\n",
              "    <tr style=\"text-align: right;\">\n",
              "      <th></th>\n",
              "      <th>Org name:</th>\n",
              "      <th>Population:</th>\n",
              "      <th>Number of users:</th>\n",
              "      <th>Completed by:</th>\n",
              "      <th>Number of deployments:</th>\n",
              "      <th>Number of unique users:</th>\n",
              "      <th>Area name:</th>\n",
              "      <th>Number of records:</th>\n",
              "      <th>Number of views:</th>\n",
              "      <th>Date completed:</th>\n",
              "      <th>Number of errors:</th>\n",
              "    </tr>\n",
              "  </thead>\n",
              "  <tbody>\n",
              "    <tr>\n",
              "      <th>0</th>\n",
              "      <td>NHS CCG80</td>\n",
              "      <td>5028324</td>\n",
              "      <td>7580834</td>\n",
              "      <td>User51</td>\n",
              "      <td>573766</td>\n",
              "      <td>7916889</td>\n",
              "      <td>LA19</td>\n",
              "      <td>4836331</td>\n",
              "      <td>75242</td>\n",
              "      <td>2021-01-01</td>\n",
              "      <td>4337039</td>\n",
              "    </tr>\n",
              "    <tr>\n",
              "      <th>1</th>\n",
              "      <td>NHS CCG30</td>\n",
              "      <td>5576609</td>\n",
              "      <td>6015460</td>\n",
              "      <td>User18</td>\n",
              "      <td>9008336</td>\n",
              "      <td>5566608</td>\n",
              "      <td>LA82</td>\n",
              "      <td>1071840</td>\n",
              "      <td>8327830</td>\n",
              "      <td>2021-01-02</td>\n",
              "      <td>1235495</td>\n",
              "    </tr>\n",
              "    <tr>\n",
              "      <th>2</th>\n",
              "      <td>NHS CCG14</td>\n",
              "      <td>7003085</td>\n",
              "      <td>3030247</td>\n",
              "      <td>User13</td>\n",
              "      <td>4766644</td>\n",
              "      <td>2736534</td>\n",
              "      <td>LA69</td>\n",
              "      <td>1595565</td>\n",
              "      <td>8780011</td>\n",
              "      <td>2021-01-03</td>\n",
              "      <td>9508660</td>\n",
              "    </tr>\n",
              "    <tr>\n",
              "      <th>3</th>\n",
              "      <td>NHS CCG79</td>\n",
              "      <td>6442678</td>\n",
              "      <td>917949</td>\n",
              "      <td>User35</td>\n",
              "      <td>9251515</td>\n",
              "      <td>8881993</td>\n",
              "      <td>LA42</td>\n",
              "      <td>5903625</td>\n",
              "      <td>3382736</td>\n",
              "      <td>2021-01-04</td>\n",
              "      <td>9574924</td>\n",
              "    </tr>\n",
              "    <tr>\n",
              "      <th>4</th>\n",
              "      <td>NHS CCG88</td>\n",
              "      <td>6086618</td>\n",
              "      <td>7182337</td>\n",
              "      <td>User62</td>\n",
              "      <td>2341285</td>\n",
              "      <td>3065153</td>\n",
              "      <td>LA38</td>\n",
              "      <td>5014954</td>\n",
              "      <td>7751733</td>\n",
              "      <td>2021-01-05</td>\n",
              "      <td>9415369</td>\n",
              "    </tr>\n",
              "  </tbody>\n",
              "</table>\n",
              "</div>"
            ],
            "text/plain": [
              "   Org name:  Population:  Number of users: Completed by:  \\\n",
              "0  NHS CCG80      5028324           7580834        User51   \n",
              "1  NHS CCG30      5576609           6015460        User18   \n",
              "2  NHS CCG14      7003085           3030247        User13   \n",
              "3  NHS CCG79      6442678            917949        User35   \n",
              "4  NHS CCG88      6086618           7182337        User62   \n",
              "\n",
              "   Number of deployments:  Number of unique users: Area name:  \\\n",
              "0                  573766                  7916889       LA19   \n",
              "1                 9008336                  5566608       LA82   \n",
              "2                 4766644                  2736534       LA69   \n",
              "3                 9251515                  8881993       LA42   \n",
              "4                 2341285                  3065153       LA38   \n",
              "\n",
              "   Number of records:  Number of views: Date completed:  Number of errors:  \n",
              "0             4836331             75242      2021-01-01            4337039  \n",
              "1             1071840           8327830      2021-01-02            1235495  \n",
              "2             1595565           8780011      2021-01-03            9508660  \n",
              "3             5903625           3382736      2021-01-04            9574924  \n",
              "4             5014954           7751733      2021-01-05            9415369  "
            ]
          },
          "metadata": {
            "tags": []
          },
          "execution_count": 29
        }
      ]
    },
    {
      "cell_type": "code",
      "metadata": {
        "colab": {
          "base_uri": "https://localhost:8080/",
          "height": 319
        },
        "id": "R18MfLEoLXTx",
        "outputId": "11b2a5dd-e0d8-4210-865f-644ce812df93"
      },
      "source": [
        "# loop through sheets and concatanate them together\r\n",
        "temp_list = []\r\n",
        "for sheet in excel_file.sheet_names:\r\n",
        "   temp_list.append(excel_file.parse(sheet))\r\n",
        "all_df = pd.concat(temp_list)\r\n",
        "all_df.reset_index(drop=True, inplace=True) # reset index\r\n",
        "all_df.tail()"
      ],
      "execution_count": 49,
      "outputs": [
        {
          "output_type": "execute_result",
          "data": {
            "text/html": [
              "<div>\n",
              "<style scoped>\n",
              "    .dataframe tbody tr th:only-of-type {\n",
              "        vertical-align: middle;\n",
              "    }\n",
              "\n",
              "    .dataframe tbody tr th {\n",
              "        vertical-align: top;\n",
              "    }\n",
              "\n",
              "    .dataframe thead th {\n",
              "        text-align: right;\n",
              "    }\n",
              "</style>\n",
              "<table border=\"1\" class=\"dataframe\">\n",
              "  <thead>\n",
              "    <tr style=\"text-align: right;\">\n",
              "      <th></th>\n",
              "      <th>Org name:</th>\n",
              "      <th>Population:</th>\n",
              "      <th>Number of users:</th>\n",
              "      <th>Completed by:</th>\n",
              "      <th>Number of deployments:</th>\n",
              "      <th>Number of unique users:</th>\n",
              "      <th>Area name:</th>\n",
              "      <th>Number of records:</th>\n",
              "      <th>Number of views:</th>\n",
              "      <th>Date completed:</th>\n",
              "      <th>Number of errors:</th>\n",
              "    </tr>\n",
              "  </thead>\n",
              "  <tbody>\n",
              "    <tr>\n",
              "      <th>17</th>\n",
              "      <td>NHS CCG20</td>\n",
              "      <td>6972487</td>\n",
              "      <td>8091575</td>\n",
              "      <td>User30</td>\n",
              "      <td>680271</td>\n",
              "      <td>3525618</td>\n",
              "      <td>LA41</td>\n",
              "      <td>8690794</td>\n",
              "      <td>7603330</td>\n",
              "      <td>2021-01-07</td>\n",
              "      <td>9749200</td>\n",
              "    </tr>\n",
              "    <tr>\n",
              "      <th>18</th>\n",
              "      <td>NHS CCG1</td>\n",
              "      <td>4801859</td>\n",
              "      <td>1282710</td>\n",
              "      <td>User33</td>\n",
              "      <td>9915387</td>\n",
              "      <td>1791233</td>\n",
              "      <td>LA26</td>\n",
              "      <td>7568039</td>\n",
              "      <td>9747033</td>\n",
              "      <td>2021-01-08</td>\n",
              "      <td>3356155</td>\n",
              "    </tr>\n",
              "    <tr>\n",
              "      <th>19</th>\n",
              "      <td>NHS CCG19</td>\n",
              "      <td>6890099</td>\n",
              "      <td>5151370</td>\n",
              "      <td>User93</td>\n",
              "      <td>3869534</td>\n",
              "      <td>6472862</td>\n",
              "      <td>LA25</td>\n",
              "      <td>4745301</td>\n",
              "      <td>6403729</td>\n",
              "      <td>2021-01-09</td>\n",
              "      <td>4601477</td>\n",
              "    </tr>\n",
              "    <tr>\n",
              "      <th>20</th>\n",
              "      <td>NHS CCG16</td>\n",
              "      <td>3587195</td>\n",
              "      <td>5240919</td>\n",
              "      <td>User5</td>\n",
              "      <td>3038961</td>\n",
              "      <td>8836857</td>\n",
              "      <td>LA77</td>\n",
              "      <td>3393763</td>\n",
              "      <td>4290168</td>\n",
              "      <td>2021-01-10</td>\n",
              "      <td>8704829</td>\n",
              "    </tr>\n",
              "    <tr>\n",
              "      <th>21</th>\n",
              "      <td>NHS CCG63</td>\n",
              "      <td>1779590</td>\n",
              "      <td>7117013</td>\n",
              "      <td>User59</td>\n",
              "      <td>421936</td>\n",
              "      <td>6285159</td>\n",
              "      <td>LA93</td>\n",
              "      <td>5749566</td>\n",
              "      <td>775378</td>\n",
              "      <td>2021-01-11</td>\n",
              "      <td>6065086</td>\n",
              "    </tr>\n",
              "  </tbody>\n",
              "</table>\n",
              "</div>"
            ],
            "text/plain": [
              "    Org name:  Population:  Number of users: Completed by:  \\\n",
              "17  NHS CCG20      6972487           8091575        User30   \n",
              "18   NHS CCG1      4801859           1282710        User33   \n",
              "19  NHS CCG19      6890099           5151370        User93   \n",
              "20  NHS CCG16      3587195           5240919         User5   \n",
              "21  NHS CCG63      1779590           7117013        User59   \n",
              "\n",
              "    Number of deployments:  Number of unique users: Area name:  \\\n",
              "17                  680271                  3525618       LA41   \n",
              "18                 9915387                  1791233       LA26   \n",
              "19                 3869534                  6472862       LA25   \n",
              "20                 3038961                  8836857       LA77   \n",
              "21                  421936                  6285159       LA93   \n",
              "\n",
              "    Number of records:  Number of views: Date completed:  Number of errors:  \n",
              "17             8690794           7603330      2021-01-07            9749200  \n",
              "18             7568039           9747033      2021-01-08            3356155  \n",
              "19             4745301           6403729      2021-01-09            4601477  \n",
              "20             3393763           4290168      2021-01-10            8704829  \n",
              "21             5749566            775378      2021-01-11            6065086  "
            ]
          },
          "metadata": {
            "tags": []
          },
          "execution_count": 49
        }
      ]
    },
    {
      "cell_type": "code",
      "metadata": {
        "colab": {
          "base_uri": "https://localhost:8080/"
        },
        "id": "ARQlzgzWNDbr",
        "outputId": "c6ffe687-3bcd-49be-a65b-62e3039375d4"
      },
      "source": [
        "import os\r\n",
        "\r\n",
        "path = \"/content/cloned-repo/data/tabular structure/\"\r\n",
        "my_filenames = [\r\n",
        "    os.path.join(root, name) # join root folder and name of file\r\n",
        "    for root, dirs, files in os.walk(path) # for all files and directories in path\r\n",
        "    for name in files\r\n",
        "    if name.endswith((\".xlsx\")) # that end with .xlsx (excel files)\r\n",
        "]\r\n",
        "my_filenames"
      ],
      "execution_count": 42,
      "outputs": [
        {
          "output_type": "execute_result",
          "data": {
            "text/plain": [
              "['/content/cloned-repo/data/tabular structure/Q2 Returns/May 2021.xlsx',\n",
              " '/content/cloned-repo/data/tabular structure/Q2 Returns/June 2021.xlsx',\n",
              " '/content/cloned-repo/data/tabular structure/Q2 Returns/July 2021.xlsx',\n",
              " '/content/cloned-repo/data/tabular structure/Q1 Returns/March 2021.xlsx',\n",
              " '/content/cloned-repo/data/tabular structure/Q1 Returns/Apr 2021.xlsx',\n",
              " '/content/cloned-repo/data/tabular structure/Q1 Returns/Feb 2021.xlsx',\n",
              " '/content/cloned-repo/data/tabular structure/Q1 Returns/Jan 2021.xlsx']"
            ]
          },
          "metadata": {
            "tags": []
          },
          "execution_count": 42
        }
      ]
    },
    {
      "cell_type": "code",
      "metadata": {
        "colab": {
          "base_uri": "https://localhost:8080/",
          "height": 356
        },
        "id": "62OjOg72Qbwx",
        "outputId": "419c1a48-accc-423c-a94c-b7bc40f78c1a"
      },
      "source": [
        "from fnmatch import fnmatch\r\n",
        "\r\n",
        "temp_list = []\r\n",
        "\r\n",
        "for filename in my_filenames:\r\n",
        "    excel_file = pd.ExcelFile(filename)\r\n",
        "    # filter out non-data sheets by calling those with 'CCG' in name\r\n",
        "    sheet_list = [sheet for sheet in excel_file.sheet_names if fnmatch(sheet, \"*CCG*\")]\r\n",
        "    for sheet in excel_file.sheet_names:\r\n",
        "      temp_list.append(excel_file.parse(sheet)) # parse each sheet into list\r\n",
        "all_df = pd.concat(temp_list)\r\n",
        "all_df.reset_index(drop=True, inplace=True) # reset index\r\n",
        "all_df.tail()"
      ],
      "execution_count": 47,
      "outputs": [
        {
          "output_type": "execute_result",
          "data": {
            "text/html": [
              "<div>\n",
              "<style scoped>\n",
              "    .dataframe tbody tr th:only-of-type {\n",
              "        vertical-align: middle;\n",
              "    }\n",
              "\n",
              "    .dataframe tbody tr th {\n",
              "        vertical-align: top;\n",
              "    }\n",
              "\n",
              "    .dataframe thead th {\n",
              "        text-align: right;\n",
              "    }\n",
              "</style>\n",
              "<table border=\"1\" class=\"dataframe\">\n",
              "  <thead>\n",
              "    <tr style=\"text-align: right;\">\n",
              "      <th></th>\n",
              "      <th>Org name:</th>\n",
              "      <th>Population:</th>\n",
              "      <th>Number of users:</th>\n",
              "      <th>Completed by:</th>\n",
              "      <th>Number of deployments:</th>\n",
              "      <th>Number of unique users:</th>\n",
              "      <th>Area name:</th>\n",
              "      <th>Number of records:</th>\n",
              "      <th>Number of views:</th>\n",
              "      <th>Date completed:</th>\n",
              "      <th>Number of errors:</th>\n",
              "    </tr>\n",
              "  </thead>\n",
              "  <tbody>\n",
              "    <tr>\n",
              "      <th>149</th>\n",
              "      <td>NHS CCG20</td>\n",
              "      <td>6972487</td>\n",
              "      <td>8091575</td>\n",
              "      <td>User30</td>\n",
              "      <td>680271</td>\n",
              "      <td>3525618</td>\n",
              "      <td>LA41</td>\n",
              "      <td>8690794</td>\n",
              "      <td>7603330</td>\n",
              "      <td>2021-01-07</td>\n",
              "      <td>9749200</td>\n",
              "    </tr>\n",
              "    <tr>\n",
              "      <th>150</th>\n",
              "      <td>NHS CCG1</td>\n",
              "      <td>4801859</td>\n",
              "      <td>1282710</td>\n",
              "      <td>User33</td>\n",
              "      <td>9915387</td>\n",
              "      <td>1791233</td>\n",
              "      <td>LA26</td>\n",
              "      <td>7568039</td>\n",
              "      <td>9747033</td>\n",
              "      <td>2021-01-08</td>\n",
              "      <td>3356155</td>\n",
              "    </tr>\n",
              "    <tr>\n",
              "      <th>151</th>\n",
              "      <td>NHS CCG19</td>\n",
              "      <td>6890099</td>\n",
              "      <td>5151370</td>\n",
              "      <td>User93</td>\n",
              "      <td>3869534</td>\n",
              "      <td>6472862</td>\n",
              "      <td>LA25</td>\n",
              "      <td>4745301</td>\n",
              "      <td>6403729</td>\n",
              "      <td>2021-01-09</td>\n",
              "      <td>4601477</td>\n",
              "    </tr>\n",
              "    <tr>\n",
              "      <th>152</th>\n",
              "      <td>NHS CCG16</td>\n",
              "      <td>3587195</td>\n",
              "      <td>5240919</td>\n",
              "      <td>User5</td>\n",
              "      <td>3038961</td>\n",
              "      <td>8836857</td>\n",
              "      <td>LA77</td>\n",
              "      <td>3393763</td>\n",
              "      <td>4290168</td>\n",
              "      <td>2021-01-10</td>\n",
              "      <td>8704829</td>\n",
              "    </tr>\n",
              "    <tr>\n",
              "      <th>153</th>\n",
              "      <td>NHS CCG63</td>\n",
              "      <td>1779590</td>\n",
              "      <td>7117013</td>\n",
              "      <td>User59</td>\n",
              "      <td>421936</td>\n",
              "      <td>6285159</td>\n",
              "      <td>LA93</td>\n",
              "      <td>5749566</td>\n",
              "      <td>775378</td>\n",
              "      <td>2021-01-11</td>\n",
              "      <td>6065086</td>\n",
              "    </tr>\n",
              "  </tbody>\n",
              "</table>\n",
              "</div>"
            ],
            "text/plain": [
              "     Org name:  Population:  Number of users: Completed by:  \\\n",
              "149  NHS CCG20      6972487           8091575        User30   \n",
              "150   NHS CCG1      4801859           1282710        User33   \n",
              "151  NHS CCG19      6890099           5151370        User93   \n",
              "152  NHS CCG16      3587195           5240919         User5   \n",
              "153  NHS CCG63      1779590           7117013        User59   \n",
              "\n",
              "     Number of deployments:  Number of unique users: Area name:  \\\n",
              "149                  680271                  3525618       LA41   \n",
              "150                 9915387                  1791233       LA26   \n",
              "151                 3869534                  6472862       LA25   \n",
              "152                 3038961                  8836857       LA77   \n",
              "153                  421936                  6285159       LA93   \n",
              "\n",
              "     Number of records:  Number of views: Date completed:  Number of errors:  \n",
              "149             8690794           7603330      2021-01-07            9749200  \n",
              "150             7568039           9747033      2021-01-08            3356155  \n",
              "151             4745301           6403729      2021-01-09            4601477  \n",
              "152             3393763           4290168      2021-01-10            8704829  \n",
              "153             5749566            775378      2021-01-11            6065086  "
            ]
          },
          "metadata": {
            "tags": []
          },
          "execution_count": 47
        }
      ]
    },
    {
      "cell_type": "code",
      "metadata": {
        "id": "vi39i13HPm6T",
        "colab": {
          "base_uri": "https://localhost:8080/"
        },
        "outputId": "edf25b79-bb87-4a9d-eac8-47ad9d06ac46"
      },
      "source": [
        "from datetime import datetime\n",
        "\n",
        "# last modified datex\n",
        "time_stamp = os.path.getmtime(my_filenames[1])\n",
        "print(time_stamp)"
      ],
      "execution_count": 50,
      "outputs": [
        {
          "output_type": "stream",
          "text": [
            "1615145141.527699\n"
          ],
          "name": "stdout"
        }
      ]
    },
    {
      "cell_type": "code",
      "metadata": {
        "id": "2rzllSftPm6T",
        "colab": {
          "base_uri": "https://localhost:8080/"
        },
        "outputId": "e984b91c-f2de-4e86-de42-9a45b74c11d3"
      },
      "source": [
        "# last modified date\n",
        "mod_date = datetime.fromtimestamp(time_stamp).strftime(\"%Y-%m-%d %H:%M:%S\")\n",
        "print(mod_date)"
      ],
      "execution_count": 52,
      "outputs": [
        {
          "output_type": "stream",
          "text": [
            "2021-03-07 19:25:41\n"
          ],
          "name": "stdout"
        }
      ]
    },
    {
      "cell_type": "code",
      "metadata": {
        "id": "sWF7rzy6WKUR",
        "outputId": "c978c76f-037e-4954-be98-582c0d92be80",
        "colab": {
          "base_uri": "https://localhost:8080/",
          "height": 238
        }
      },
      "source": [
        "temp_list = []\r\n",
        "all_df = pd.DataFrame()\r\n",
        "\r\n",
        "for filename in my_filenames:\r\n",
        "    excel_file = pd.ExcelFile(filename)\r\n",
        "    # filter out non-data sheets by calling those with 'CCG' in name\r\n",
        "    sheet_list = [sheet for sheet in excel_file.sheet_names if fnmatch(sheet, \"*CCG*\")]\r\n",
        "    for sheet in excel_file.sheet_names:\r\n",
        "      temp_list.append(excel_file.parse(sheet)) # parse each sheet into list\r\n",
        "all_df = pd.concat(temp_list)\r\n",
        "#all_df = all_df.assign(sheet_name = sheet)\r\n",
        "#all_df = all_df.assign(file_name = filename)\r\n",
        "#all_df = all_df.assign(extract_date = datetime.fromtimestamp(os.path.getmtime(filename)).strftime(\"%Y-%m-%d %H:%M:%S\"))\r\n",
        "#all_df.reset_index(drop=True, inplace=True) # reset index\r\n",
        "all_df"
      ],
      "execution_count": 103,
      "outputs": [
        {
          "output_type": "error",
          "ename": "AttributeError",
          "evalue": "ignored",
          "traceback": [
            "\u001b[0;31m---------------------------------------------------------------------------\u001b[0m",
            "\u001b[0;31mAttributeError\u001b[0m                            Traceback (most recent call last)",
            "\u001b[0;32m<ipython-input-103-c87aca52d106>\u001b[0m in \u001b[0;36m<module>\u001b[0;34m()\u001b[0m\n\u001b[1;32m      7\u001b[0m     \u001b[0msheet_list\u001b[0m \u001b[0;34m=\u001b[0m \u001b[0;34m[\u001b[0m\u001b[0msheet\u001b[0m \u001b[0;32mfor\u001b[0m \u001b[0msheet\u001b[0m \u001b[0;32min\u001b[0m \u001b[0mexcel_file\u001b[0m\u001b[0;34m.\u001b[0m\u001b[0msheet_names\u001b[0m \u001b[0;32mif\u001b[0m \u001b[0mfnmatch\u001b[0m\u001b[0;34m(\u001b[0m\u001b[0msheet\u001b[0m\u001b[0;34m,\u001b[0m \u001b[0;34m\"*CCG*\"\u001b[0m\u001b[0;34m)\u001b[0m\u001b[0;34m]\u001b[0m\u001b[0;34m\u001b[0m\u001b[0;34m\u001b[0m\u001b[0m\n\u001b[1;32m      8\u001b[0m     \u001b[0;32mfor\u001b[0m \u001b[0msheet\u001b[0m \u001b[0;32min\u001b[0m \u001b[0mexcel_file\u001b[0m\u001b[0;34m.\u001b[0m\u001b[0msheet_names\u001b[0m\u001b[0;34m:\u001b[0m\u001b[0;34m\u001b[0m\u001b[0;34m\u001b[0m\u001b[0m\n\u001b[0;32m----> 9\u001b[0;31m       \u001b[0mexcel_file\u001b[0m\u001b[0;34m.\u001b[0m\u001b[0massign\u001b[0m\u001b[0;34m(\u001b[0m\u001b[0msheet_name\u001b[0m \u001b[0;34m=\u001b[0m \u001b[0msheet\u001b[0m\u001b[0;34m)\u001b[0m\u001b[0;34m\u001b[0m\u001b[0;34m\u001b[0m\u001b[0m\n\u001b[0m\u001b[1;32m     10\u001b[0m       \u001b[0mtemp_list\u001b[0m\u001b[0;34m.\u001b[0m\u001b[0mappend\u001b[0m\u001b[0;34m(\u001b[0m\u001b[0mexcel_file\u001b[0m\u001b[0;34m.\u001b[0m\u001b[0mparse\u001b[0m\u001b[0;34m(\u001b[0m\u001b[0msheet\u001b[0m\u001b[0;34m)\u001b[0m\u001b[0;34m)\u001b[0m \u001b[0;31m# parse each sheet into list\u001b[0m\u001b[0;34m\u001b[0m\u001b[0;34m\u001b[0m\u001b[0m\n\u001b[1;32m     11\u001b[0m \u001b[0mall_df\u001b[0m \u001b[0;34m=\u001b[0m \u001b[0mpd\u001b[0m\u001b[0;34m.\u001b[0m\u001b[0mconcat\u001b[0m\u001b[0;34m(\u001b[0m\u001b[0mtemp_list\u001b[0m\u001b[0;34m)\u001b[0m\u001b[0;34m\u001b[0m\u001b[0;34m\u001b[0m\u001b[0m\n",
            "\u001b[0;31mAttributeError\u001b[0m: 'ExcelFile' object has no attribute 'assign'"
          ]
        }
      ]
    },
    {
      "cell_type": "code",
      "metadata": {
        "id": "fmLGyKMFczaa"
      },
      "source": [
        "all_df.to_csv(r'data/output.csv')"
      ],
      "execution_count": 101,
      "outputs": []
    },
    {
      "cell_type": "code",
      "metadata": {
        "id": "tpFBpibGPm6O"
      },
      "source": [
        "from openpyxl import load_workbook"
      ],
      "execution_count": null,
      "outputs": []
    },
    {
      "cell_type": "code",
      "metadata": {
        "id": "PA-Lg7H9Pm6S"
      },
      "source": [
        "df = pd.DataFrame(\n",
        "    columns=[\n",
        "        \"file\",\n",
        "        \"mod_date\",\n",
        "        \"sheet\",\n",
        "        \"Author\",\n",
        "        \"Date completed\",\n",
        "        \"Population\",\n",
        "        \"Number of \",\n",
        "        \"Number of \",\n",
        "        \"Number of \",\n",
        "        \"Number of \",\n",
        "    ]\n",
        ")\n",
        "df"
      ],
      "execution_count": null,
      "outputs": []
    },
    {
      "cell_type": "code",
      "metadata": {
        "id": "ZBujuvaYPm6T"
      },
      "source": [
        "cell_value = wb[sheet_list[1]][\"B2\"].value\n",
        "print(cell_value)"
      ],
      "execution_count": null,
      "outputs": []
    },
    {
      "cell_type": "code",
      "metadata": {
        "id": "6NwzFcxAPm6T"
      },
      "source": [
        "df1 = df.append(\n",
        "    {\n",
        "        \"file\": my_filenames[1],\n",
        "        \"mod_date\": mod_date,\n",
        "        \"sheet\": wb[sheet_list[1]].title,\n",
        "        \"Author\": wb[sheet_list[1]][\"F1\"].value,\n",
        "        \"Date completed\": wb[sheet_list[1]][\"H1\"].value,\n",
        "        \"Population\": wb[sheet_list[1]][\"B2\"].value,\n",
        "        \"Number of \": wb[sheet_list[1]][\"E2\"].value,\n",
        "        \"Number of \": wb[sheet_list[1]][\"B3\"].value,\n",
        "        \"Number of \": wb[sheet_list[1]][\"D3\"].value,\n",
        "        \"Number of \": wb[sheet_list[1]][\"F3\"].value,\n",
        "    },\n",
        "    ignore_index=True,\n",
        ")\n",
        "df1"
      ],
      "execution_count": null,
      "outputs": []
    },
    {
      "cell_type": "code",
      "metadata": {
        "id": "c92QGKBTPm6U"
      },
      "source": [
        "# loop\n",
        "for filename in my_filenames:\n",
        "    wb = load_workbook(filename)\n",
        "    sheet_list = [sheet for sheet in wb.sheetnames if fnmatch(sheet, \"*Data*\")]\n",
        "    # last modified date\n",
        "    mod_date = datetime.fromtimestamp(os.path.getmtime(filename)).strftime(\"%Y-%m-%d\")\n",
        "    for sheet in sheet_list:\n",
        "        df2 = df.append(\n",
        "            {\n",
        "                \"file\": filename,\n",
        "                \"mod_date\": mod_date,\n",
        "                \"sheet\": wb[sheet].title,\n",
        "                \"Author\": wb[sheet][\"F1\"].value,\n",
        "                \"Date completed\": wb[sheet][\"H1\"].value,\n",
        "                \"Population\": wb[sheet][\"B2\"].value,\n",
        "                \"Number of \": wb[sheet][\"E2\"].value,\n",
        "                \"Number of \": wb[sheet][\"B3\"].value,\n",
        "                \"Number of \": wb[sheet][\"D3\"].value,\n",
        "                \"Number of \": wb[sheet][\"F3\"].value,\n",
        "            },\n",
        "            ignore_index=True,\n",
        "        )\n",
        "df2"
      ],
      "execution_count": null,
      "outputs": []
    },
    {
      "cell_type": "code",
      "metadata": {
        "id": "0MRsKJZakPzw"
      },
      "source": [
        "import os\r\n",
        "import yaml\r\n",
        "import pandas as pd\r\n",
        "from openpyxl import load_workbook\r\n",
        "from datetime import datetime\r\n",
        "from fnmatch import fnmatch\r\n",
        "from fuzzywuzzy import process\r\n",
        "from fuzzywuzzy import fuzz\r\n",
        "\r\n",
        "config = 'config.yaml'\r\n",
        "with open(config, \"r\") as yamlfile:\r\n",
        "    configs = yaml.load(yamlfile, Loader=yaml.FullLoader)\r\n",
        "\r\n",
        "path = \"data/\"\r\n",
        "df = pd.DataFrame(columns=configs['Column Names'])\r\n",
        "dictionary = {}\r\n",
        "limit = 1   # Number of results to return\r\n",
        "cutoff = 80 # % similarity\r\n",
        "\r\n",
        "my_filenames = [\r\n",
        "    os.path.join(root, name)\r\n",
        "    for root, dirs, files in os.walk(path)\r\n",
        "    for name in files\r\n",
        "    if name.endswith((\".xlsx\"))\r\n",
        "]\r\n",
        "# loop files\r\n",
        "for filename in my_filenames:\r\n",
        "    wb = load_workbook(filename)\r\n",
        "    dictionary[\"file\"] = filename\r\n",
        "    sheet_list = [sheet for sheet in wb.sheetnames if fnmatch(sheet, configs[\"Sheet\"])]\r\n",
        "    # last modified date\r\n",
        "    mod_date = datetime.fromtimestamp(os.path.getmtime(filename))\r\n",
        "    dictionary[\"Modified date\"] = mod_date\r\n",
        "    # loop sheets\r\n",
        "    for sheet in sheet_list:\r\n",
        "        dictionary[\"sheet\"] = sheet\r\n",
        "        df_sheet = pd.read_excel(\r\n",
        "            filename,\r\n",
        "            sheet_name=sheet,\r\n",
        "            engine=\"openpyxl\",\r\n",
        "            index_col=None,\r\n",
        "            header=None,\r\n",
        "            nrows=configs[\"Rows\"],\r\n",
        "        )\r\n",
        "        for row in list(range(0, configs[\"Rows\"])):\r\n",
        "            for name in configs['Column Names']:\r\n",
        "                match = process.extractBests(\r\n",
        "                    name,\r\n",
        "                    df_sheet.iloc[row],\r\n",
        "                    limit=limit,\r\n",
        "                    scorer=fuzz.token_sort_ratio,\r\n",
        "                    score_cutoff=cutoff,\r\n",
        "                )\r\n",
        "                if match:\r\n",
        "                    location = [i for i, x in enumerate(df_sheet.iloc[row] == match[0][0]) if x]\r\n",
        "                    result = df_sheet.iloc[row][location[0] + 1]\r\n",
        "                    dictionary[name] = result\r\n",
        "        df = df.append(dictionary, ignore_index=True)\r\n",
        "df"
      ],
      "execution_count": null,
      "outputs": []
    },
    {
      "cell_type": "code",
      "metadata": {
        "id": "2rKURpmvPm6U"
      },
      "source": [
        "# call function\n",
        "path = \"data/\"\n",
        "df = trashPanda(path)\n",
        "df.to_csv(r'data/output.csv')"
      ],
      "execution_count": null,
      "outputs": []
    }
  ]
}