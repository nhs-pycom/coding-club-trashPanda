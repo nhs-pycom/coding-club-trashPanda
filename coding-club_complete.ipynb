{
  "nbformat": 4,
  "nbformat_minor": 0,
  "metadata": {
    "language_info": {
      "codemirror_mode": {
        "name": "ipython",
        "version": 3
      },
      "file_extension": ".py",
      "mimetype": "text/x-python",
      "name": "python",
      "nbconvert_exporter": "python",
      "pygments_lexer": "ipython3",
      "version": "3.8.5-final"
    },
    "orig_nbformat": 2,
    "kernelspec": {
      "name": "python3",
      "display_name": "Python 3",
      "language": "python"
    },
    "colab": {
      "name": "coding-club.ipynb",
      "provenance": [],
      "toc_visible": true,
      "include_colab_link": true
    }
  },
  "cells": [
    {
      "cell_type": "markdown",
      "metadata": {
        "id": "view-in-github",
        "colab_type": "text"
      },
      "source": [
        "<a href=\"https://colab.research.google.com/github/nhs-pycom/coding-club-trashPanda/blob/main/coding-club_complete.ipynb\" target=\"_parent\"><img src=\"https://colab.research.google.com/assets/colab-badge.svg\" alt=\"Open In Colab\"/></a>"
      ]
    },
    {
      "cell_type": "markdown",
      "metadata": {
        "id": "H9K3whwtYBFr"
      },
      "source": [
        "# Welcome to NHSX Coding Club\r\n",
        "\r\n",
        "## Lesson One: trashPanda\r\n",
        "\r\n",
        "### Pandas for excel"
      ]
    },
    {
      "cell_type": "code",
      "metadata": {
        "colab": {
          "base_uri": "https://localhost:8080/"
        },
        "id": "U-ZQGbA4YUPb",
        "outputId": "5aa57b21-1b1f-4631-84f1-84bc8b58ff59"
      },
      "source": [
        "# clone coding club repo to google colab\r\n",
        "!git clone -l -s git://github.com/nhs-pycom/coding-club-trashPanda.git cloned-repo\r\n",
        "%cd cloned-repo\r\n",
        "!ls"
      ],
      "execution_count": 1,
      "outputs": [
        {
          "output_type": "stream",
          "text": [
            "Cloning into 'cloned-repo'...\n",
            "warning: --local is ignored\n",
            "remote: Enumerating objects: 39, done.\u001b[K\n",
            "remote: Counting objects: 100% (39/39), done.\u001b[K\n",
            "remote: Compressing objects: 100% (32/32), done.\u001b[K\n",
            "remote: Total 39 (delta 13), reused 21 (delta 7), pack-reused 0\u001b[K\n",
            "Receiving objects: 100% (39/39), 65.08 KiB | 380.00 KiB/s, done.\n",
            "Resolving deltas: 100% (13/13), done.\n",
            "/content/cloned-repo\n",
            "coding-club.ipynb  data  LICENSE  README.md\n"
          ],
          "name": "stdout"
        }
      ]
    },
    {
      "cell_type": "code",
      "metadata": {
        "colab": {
          "base_uri": "https://localhost:8080/",
          "height": 319
        },
        "id": "_yoSwdH7ZZ0k",
        "outputId": "2f0b513b-730c-4b2a-cbe1-75540b028b3d"
      },
      "source": [
        "import pandas as pd\r\n",
        "pd.set_option(\"display.max.columns\", None) # show all columns in dataframe\r\n",
        "\r\n",
        "# read an excel file from repo /data/ folder\r\n",
        "path = '/content/cloned-repo/data/tabular structure/Q1 Returns/Jan 2021.xlsx'\r\n",
        "df = pd.read_excel(path)\r\n",
        "df.head()"
      ],
      "execution_count": 9,
      "outputs": [
        {
          "output_type": "execute_result",
          "data": {
            "text/html": [
              "<div>\n",
              "<style scoped>\n",
              "    .dataframe tbody tr th:only-of-type {\n",
              "        vertical-align: middle;\n",
              "    }\n",
              "\n",
              "    .dataframe tbody tr th {\n",
              "        vertical-align: top;\n",
              "    }\n",
              "\n",
              "    .dataframe thead th {\n",
              "        text-align: right;\n",
              "    }\n",
              "</style>\n",
              "<table border=\"1\" class=\"dataframe\">\n",
              "  <thead>\n",
              "    <tr style=\"text-align: right;\">\n",
              "      <th></th>\n",
              "      <th>Org name:</th>\n",
              "      <th>Population:</th>\n",
              "      <th>Number of users:</th>\n",
              "      <th>Completed by:</th>\n",
              "      <th>Number of deployments:</th>\n",
              "      <th>Number of unique users:</th>\n",
              "      <th>Area name:</th>\n",
              "      <th>Number of records:</th>\n",
              "      <th>Number of views:</th>\n",
              "      <th>Date completed:</th>\n",
              "      <th>Number of errors:</th>\n",
              "    </tr>\n",
              "  </thead>\n",
              "  <tbody>\n",
              "    <tr>\n",
              "      <th>0</th>\n",
              "      <td>NHS CCG80</td>\n",
              "      <td>5028324</td>\n",
              "      <td>7580834</td>\n",
              "      <td>User51</td>\n",
              "      <td>573766</td>\n",
              "      <td>7916889</td>\n",
              "      <td>LA19</td>\n",
              "      <td>4836331</td>\n",
              "      <td>75242</td>\n",
              "      <td>2021-01-01</td>\n",
              "      <td>4337039</td>\n",
              "    </tr>\n",
              "    <tr>\n",
              "      <th>1</th>\n",
              "      <td>NHS CCG30</td>\n",
              "      <td>5576609</td>\n",
              "      <td>6015460</td>\n",
              "      <td>User18</td>\n",
              "      <td>9008336</td>\n",
              "      <td>5566608</td>\n",
              "      <td>LA82</td>\n",
              "      <td>1071840</td>\n",
              "      <td>8327830</td>\n",
              "      <td>2021-01-02</td>\n",
              "      <td>1235495</td>\n",
              "    </tr>\n",
              "    <tr>\n",
              "      <th>2</th>\n",
              "      <td>NHS CCG14</td>\n",
              "      <td>7003085</td>\n",
              "      <td>3030247</td>\n",
              "      <td>User13</td>\n",
              "      <td>4766644</td>\n",
              "      <td>2736534</td>\n",
              "      <td>LA69</td>\n",
              "      <td>1595565</td>\n",
              "      <td>8780011</td>\n",
              "      <td>2021-01-03</td>\n",
              "      <td>9508660</td>\n",
              "    </tr>\n",
              "    <tr>\n",
              "      <th>3</th>\n",
              "      <td>NHS CCG79</td>\n",
              "      <td>6442678</td>\n",
              "      <td>917949</td>\n",
              "      <td>User35</td>\n",
              "      <td>9251515</td>\n",
              "      <td>8881993</td>\n",
              "      <td>LA42</td>\n",
              "      <td>5903625</td>\n",
              "      <td>3382736</td>\n",
              "      <td>2021-01-04</td>\n",
              "      <td>9574924</td>\n",
              "    </tr>\n",
              "    <tr>\n",
              "      <th>4</th>\n",
              "      <td>NHS CCG88</td>\n",
              "      <td>6086618</td>\n",
              "      <td>7182337</td>\n",
              "      <td>User62</td>\n",
              "      <td>2341285</td>\n",
              "      <td>3065153</td>\n",
              "      <td>LA38</td>\n",
              "      <td>5014954</td>\n",
              "      <td>7751733</td>\n",
              "      <td>2021-01-05</td>\n",
              "      <td>9415369</td>\n",
              "    </tr>\n",
              "  </tbody>\n",
              "</table>\n",
              "</div>"
            ],
            "text/plain": [
              "   Org name:  Population:  Number of users: Completed by:  \\\n",
              "0  NHS CCG80      5028324           7580834        User51   \n",
              "1  NHS CCG30      5576609           6015460        User18   \n",
              "2  NHS CCG14      7003085           3030247        User13   \n",
              "3  NHS CCG79      6442678            917949        User35   \n",
              "4  NHS CCG88      6086618           7182337        User62   \n",
              "\n",
              "   Number of deployments:  Number of unique users: Area name:  \\\n",
              "0                  573766                  7916889       LA19   \n",
              "1                 9008336                  5566608       LA82   \n",
              "2                 4766644                  2736534       LA69   \n",
              "3                 9251515                  8881993       LA42   \n",
              "4                 2341285                  3065153       LA38   \n",
              "\n",
              "   Number of records:  Number of views: Date completed:  Number of errors:  \n",
              "0             4836331             75242      2021-01-01            4337039  \n",
              "1             1071840           8327830      2021-01-02            1235495  \n",
              "2             1595565           8780011      2021-01-03            9508660  \n",
              "3             5903625           3382736      2021-01-04            9574924  \n",
              "4             5014954           7751733      2021-01-05            9415369  "
            ]
          },
          "metadata": {
            "tags": []
          },
          "execution_count": 9
        }
      ]
    },
    {
      "cell_type": "code",
      "metadata": {
        "id": "1_7vhDULcex4",
        "outputId": "74a17727-cf61-4e3e-b066-36dd711d96a0",
        "colab": {
          "base_uri": "https://localhost:8080/",
          "height": 350
        }
      },
      "source": [
        "# specify which sheet to load and index column number (remember index starts at 0 in python)\r\n",
        "df = pd.read_excel(path, sheet_name=0, index_col=0)\r\n",
        "df.head()"
      ],
      "execution_count": 10,
      "outputs": [
        {
          "output_type": "execute_result",
          "data": {
            "text/html": [
              "<div>\n",
              "<style scoped>\n",
              "    .dataframe tbody tr th:only-of-type {\n",
              "        vertical-align: middle;\n",
              "    }\n",
              "\n",
              "    .dataframe tbody tr th {\n",
              "        vertical-align: top;\n",
              "    }\n",
              "\n",
              "    .dataframe thead th {\n",
              "        text-align: right;\n",
              "    }\n",
              "</style>\n",
              "<table border=\"1\" class=\"dataframe\">\n",
              "  <thead>\n",
              "    <tr style=\"text-align: right;\">\n",
              "      <th></th>\n",
              "      <th>Population:</th>\n",
              "      <th>Number of users:</th>\n",
              "      <th>Completed by:</th>\n",
              "      <th>Number of deployments:</th>\n",
              "      <th>Number of unique users:</th>\n",
              "      <th>Area name:</th>\n",
              "      <th>Number of records:</th>\n",
              "      <th>Number of views:</th>\n",
              "      <th>Date completed:</th>\n",
              "      <th>Number of errors:</th>\n",
              "    </tr>\n",
              "    <tr>\n",
              "      <th>Org name:</th>\n",
              "      <th></th>\n",
              "      <th></th>\n",
              "      <th></th>\n",
              "      <th></th>\n",
              "      <th></th>\n",
              "      <th></th>\n",
              "      <th></th>\n",
              "      <th></th>\n",
              "      <th></th>\n",
              "      <th></th>\n",
              "    </tr>\n",
              "  </thead>\n",
              "  <tbody>\n",
              "    <tr>\n",
              "      <th>NHS CCG80</th>\n",
              "      <td>5028324</td>\n",
              "      <td>7580834</td>\n",
              "      <td>User51</td>\n",
              "      <td>573766</td>\n",
              "      <td>7916889</td>\n",
              "      <td>LA19</td>\n",
              "      <td>4836331</td>\n",
              "      <td>75242</td>\n",
              "      <td>2021-01-01</td>\n",
              "      <td>4337039</td>\n",
              "    </tr>\n",
              "    <tr>\n",
              "      <th>NHS CCG30</th>\n",
              "      <td>5576609</td>\n",
              "      <td>6015460</td>\n",
              "      <td>User18</td>\n",
              "      <td>9008336</td>\n",
              "      <td>5566608</td>\n",
              "      <td>LA82</td>\n",
              "      <td>1071840</td>\n",
              "      <td>8327830</td>\n",
              "      <td>2021-01-02</td>\n",
              "      <td>1235495</td>\n",
              "    </tr>\n",
              "    <tr>\n",
              "      <th>NHS CCG14</th>\n",
              "      <td>7003085</td>\n",
              "      <td>3030247</td>\n",
              "      <td>User13</td>\n",
              "      <td>4766644</td>\n",
              "      <td>2736534</td>\n",
              "      <td>LA69</td>\n",
              "      <td>1595565</td>\n",
              "      <td>8780011</td>\n",
              "      <td>2021-01-03</td>\n",
              "      <td>9508660</td>\n",
              "    </tr>\n",
              "    <tr>\n",
              "      <th>NHS CCG79</th>\n",
              "      <td>6442678</td>\n",
              "      <td>917949</td>\n",
              "      <td>User35</td>\n",
              "      <td>9251515</td>\n",
              "      <td>8881993</td>\n",
              "      <td>LA42</td>\n",
              "      <td>5903625</td>\n",
              "      <td>3382736</td>\n",
              "      <td>2021-01-04</td>\n",
              "      <td>9574924</td>\n",
              "    </tr>\n",
              "    <tr>\n",
              "      <th>NHS CCG88</th>\n",
              "      <td>6086618</td>\n",
              "      <td>7182337</td>\n",
              "      <td>User62</td>\n",
              "      <td>2341285</td>\n",
              "      <td>3065153</td>\n",
              "      <td>LA38</td>\n",
              "      <td>5014954</td>\n",
              "      <td>7751733</td>\n",
              "      <td>2021-01-05</td>\n",
              "      <td>9415369</td>\n",
              "    </tr>\n",
              "  </tbody>\n",
              "</table>\n",
              "</div>"
            ],
            "text/plain": [
              "           Population:  Number of users: Completed by:  \\\n",
              "Org name:                                                \n",
              "NHS CCG80      5028324           7580834        User51   \n",
              "NHS CCG30      5576609           6015460        User18   \n",
              "NHS CCG14      7003085           3030247        User13   \n",
              "NHS CCG79      6442678            917949        User35   \n",
              "NHS CCG88      6086618           7182337        User62   \n",
              "\n",
              "           Number of deployments:  Number of unique users: Area name:  \\\n",
              "Org name:                                                               \n",
              "NHS CCG80                  573766                  7916889       LA19   \n",
              "NHS CCG30                 9008336                  5566608       LA82   \n",
              "NHS CCG14                 4766644                  2736534       LA69   \n",
              "NHS CCG79                 9251515                  8881993       LA42   \n",
              "NHS CCG88                 2341285                  3065153       LA38   \n",
              "\n",
              "           Number of records:  Number of views: Date completed:  \\\n",
              "Org name:                                                         \n",
              "NHS CCG80             4836331             75242      2021-01-01   \n",
              "NHS CCG30             1071840           8327830      2021-01-02   \n",
              "NHS CCG14             1595565           8780011      2021-01-03   \n",
              "NHS CCG79             5903625           3382736      2021-01-04   \n",
              "NHS CCG88             5014954           7751733      2021-01-05   \n",
              "\n",
              "           Number of errors:  \n",
              "Org name:                     \n",
              "NHS CCG80            4337039  \n",
              "NHS CCG30            1235495  \n",
              "NHS CCG14            9508660  \n",
              "NHS CCG79            9574924  \n",
              "NHS CCG88            9415369  "
            ]
          },
          "metadata": {
            "tags": []
          },
          "execution_count": 10
        }
      ]
    },
    {
      "cell_type": "code",
      "metadata": {
        "id": "Fx5VJiHLdkmI",
        "outputId": "38498a81-e030-47c9-f71c-4695aac16e83",
        "colab": {
          "base_uri": "https://localhost:8080/"
        }
      },
      "source": [
        "print(type(df))\r\n",
        "print(df.shape)"
      ],
      "execution_count": 21,
      "outputs": [
        {
          "output_type": "stream",
          "text": [
            "<class 'pandas.core.frame.DataFrame'>\n",
            "(11, 10)\n"
          ],
          "name": "stdout"
        }
      ]
    },
    {
      "cell_type": "code",
      "metadata": {
        "id": "OZ8lIm_teN6O",
        "outputId": "e96b36de-da79-4491-85a6-4d92f52f4438",
        "colab": {
          "base_uri": "https://localhost:8080/"
        }
      },
      "source": [
        "# basic transformations\r\n",
        "sort_population = df.sort_values(['Population:'], ascending=False)\r\n",
        "sort_population['Population:']"
      ],
      "execution_count": 15,
      "outputs": [
        {
          "output_type": "execute_result",
          "data": {
            "text/plain": [
              "Org name:\n",
              "NHS CCG29    7123329\n",
              "NHS CCG14    7003085\n",
              "NHS CCG79    6442678\n",
              "NHS CCG88    6086618\n",
              "NHS CCG30    5576609\n",
              "NHS CCG21    5474666\n",
              "NHS CCG80    5028324\n",
              "NHS CCG96    4481652\n",
              "NHS CCG87    3907967\n",
              "NHS CCG55    3079321\n",
              "NHS CCG53    2409241\n",
              "Name: Population:, dtype: int64"
            ]
          },
          "metadata": {
            "tags": []
          },
          "execution_count": 15
        }
      ]
    },
    {
      "cell_type": "code",
      "metadata": {
        "id": "7nByE0EofIkC",
        "outputId": "8195f5f4-1cf5-4c74-d776-76ee78a4c9f3",
        "colab": {
          "base_uri": "https://localhost:8080/",
          "height": 278
        }
      },
      "source": [
        "import matplotlib.pyplot as plt\r\n",
        "\r\n",
        "# bar chart\r\n",
        "sort_population['Population:'].plot(kind=\"barh\")\r\n",
        "plt.show()"
      ],
      "execution_count": 16,
      "outputs": [
        {
          "output_type": "display_data",
          "data": {
            "image/png": "[encoded data removed]",
            "text/plain": [
              "<Figure size 432x288 with 1 Axes>"
            ]
          },
          "metadata": {
            "tags": [],
            "needs_background": "light"
          }
        }
      ]
    },
    {
      "cell_type": "code",
      "metadata": {
        "id": "-TAzHyENfs-R",
        "outputId": "c0205484-90ac-42c0-dd84-9899dc0ca5b8",
        "colab": {
          "base_uri": "https://localhost:8080/"
        }
      },
      "source": [
        "# discriptive statistics\r\n",
        "sort_population['Population:'].describe()"
      ],
      "execution_count": 20,
      "outputs": [
        {
          "output_type": "execute_result",
          "data": {
            "text/plain": [
              "count    1.100000e+01\n",
              "mean     5.146681e+06\n",
              "std      1.548132e+06\n",
              "min      2.409241e+06\n",
              "25%      4.194810e+06\n",
              "50%      5.474666e+06\n",
              "75%      6.264648e+06\n",
              "max      7.123329e+06\n",
              "Name: Population:, dtype: float64"
            ]
          },
          "metadata": {
            "tags": []
          },
          "execution_count": 20
        }
      ]
    },
    {
      "cell_type": "code",
      "metadata": {
        "id": "tpFBpibGPm6O"
      },
      "source": [
        "# import some libs\n",
        "import os\n",
        "from datetime import datetime\n",
        "from fnmatch import fnmatch\n",
        "import pandas as pd\n",
        "from openpyxl import load_workbook"
      ],
      "execution_count": null,
      "outputs": []
    },
    {
      "cell_type": "code",
      "metadata": {
        "id": "PA-Lg7H9Pm6S"
      },
      "source": [
        "df = pd.DataFrame(\n",
        "    columns=[\n",
        "        \"file\",\n",
        "        \"mod_date\",\n",
        "        \"sheet\",\n",
        "        \"Author\",\n",
        "        \"Date completed\",\n",
        "        \"Population\",\n",
        "        \"Number of \",\n",
        "        \"Number of \",\n",
        "        \"Number of \",\n",
        "        \"Number of \",\n",
        "    ]\n",
        ")\n",
        "df"
      ],
      "execution_count": null,
      "outputs": []
    },
    {
      "cell_type": "code",
      "metadata": {
        "id": "7H0MQ_X_Pm6S"
      },
      "source": [
        "path = \"data/\"\n",
        "my_filenames = [\n",
        "    os.path.join(root, name)\n",
        "    for root, dirs, files in os.walk(path)\n",
        "    for name in files\n",
        "    if name.endswith((\".xlsx\"))\n",
        "]\n",
        "my_filenames"
      ],
      "execution_count": null,
      "outputs": []
    },
    {
      "cell_type": "code",
      "metadata": {
        "id": "3gxSp5tsPm6T"
      },
      "source": [
        "for filename in my_filenames:\n",
        "    wb = load_workbook(filename)\n",
        "    sheet_list = [sheet for sheet in wb.sheetnames if fnmatch(sheet, \"*Data*\")]\n",
        "sheet_list"
      ],
      "execution_count": null,
      "outputs": []
    },
    {
      "cell_type": "code",
      "metadata": {
        "id": "vi39i13HPm6T"
      },
      "source": [
        "# last modified datex\n",
        "time_stamp = os.path.getmtime(my_filenames[1])\n",
        "print(time_stamp)"
      ],
      "execution_count": null,
      "outputs": []
    },
    {
      "cell_type": "code",
      "metadata": {
        "id": "2rzllSftPm6T"
      },
      "source": [
        "# last modified date\n",
        "mod_date = datetime.fromtimestamp(time_stamp).strftime(\"%Y-%m-%d\")\n",
        "print(mod_date)"
      ],
      "execution_count": null,
      "outputs": []
    },
    {
      "cell_type": "code",
      "metadata": {
        "id": "xy1UAOapPm6T"
      },
      "source": [
        "sheet_title = wb[sheet_list[1]].title\n",
        "print(sheet_title)"
      ],
      "execution_count": null,
      "outputs": []
    },
    {
      "cell_type": "code",
      "metadata": {
        "id": "ZBujuvaYPm6T"
      },
      "source": [
        "cell_value = wb[sheet_list[1]][\"B2\"].value\n",
        "print(cell_value)"
      ],
      "execution_count": null,
      "outputs": []
    },
    {
      "cell_type": "code",
      "metadata": {
        "id": "6NwzFcxAPm6T"
      },
      "source": [
        "df1 = df.append(\n",
        "    {\n",
        "        \"file\": my_filenames[1],\n",
        "        \"mod_date\": mod_date,\n",
        "        \"sheet\": wb[sheet_list[1]].title,\n",
        "        \"Author\": wb[sheet_list[1]][\"F1\"].value,\n",
        "        \"Date completed\": wb[sheet_list[1]][\"H1\"].value,\n",
        "        \"Population\": wb[sheet_list[1]][\"B2\"].value,\n",
        "        \"Number of \": wb[sheet_list[1]][\"E2\"].value,\n",
        "        \"Number of \": wb[sheet_list[1]][\"B3\"].value,\n",
        "        \"Number of \": wb[sheet_list[1]][\"D3\"].value,\n",
        "        \"Number of \": wb[sheet_list[1]][\"F3\"].value,\n",
        "    },\n",
        "    ignore_index=True,\n",
        ")\n",
        "df1"
      ],
      "execution_count": null,
      "outputs": []
    },
    {
      "cell_type": "code",
      "metadata": {
        "id": "c92QGKBTPm6U"
      },
      "source": [
        "# loop\n",
        "for filename in my_filenames:\n",
        "    wb = load_workbook(filename)\n",
        "    sheet_list = [sheet for sheet in wb.sheetnames if fnmatch(sheet, \"*Data*\")]\n",
        "    # last modified date\n",
        "    mod_date = datetime.fromtimestamp(os.path.getmtime(filename)).strftime(\"%Y-%m-%d\")\n",
        "    for sheet in sheet_list:\n",
        "        df2 = df.append(\n",
        "            {\n",
        "                \"file\": filename,\n",
        "                \"mod_date\": mod_date,\n",
        "                \"sheet\": wb[sheet].title,\n",
        "                \"Author\": wb[sheet][\"F1\"].value,\n",
        "                \"Date completed\": wb[sheet][\"H1\"].value,\n",
        "                \"Population\": wb[sheet][\"B2\"].value,\n",
        "                \"Number of \": wb[sheet][\"E2\"].value,\n",
        "                \"Number of \": wb[sheet][\"B3\"].value,\n",
        "                \"Number of \": wb[sheet][\"D3\"].value,\n",
        "                \"Number of \": wb[sheet][\"F3\"].value,\n",
        "            },\n",
        "            ignore_index=True,\n",
        "        )\n",
        "df2"
      ],
      "execution_count": null,
      "outputs": []
    },
    {
      "cell_type": "code",
      "metadata": {
        "id": "0MRsKJZakPzw"
      },
      "source": [
        "import os\r\n",
        "import yaml\r\n",
        "import pandas as pd\r\n",
        "from openpyxl import load_workbook\r\n",
        "from datetime import datetime\r\n",
        "from fnmatch import fnmatch\r\n",
        "from fuzzywuzzy import process\r\n",
        "from fuzzywuzzy import fuzz\r\n",
        "\r\n",
        "config = 'config.yaml'\r\n",
        "with open(config, \"r\") as yamlfile:\r\n",
        "    configs = yaml.load(yamlfile, Loader=yaml.FullLoader)\r\n",
        "\r\n",
        "path = \"data/\"\r\n",
        "df = pd.DataFrame(columns=configs['Column Names'])\r\n",
        "dictionary = {}\r\n",
        "limit = 1   # Number of results to return\r\n",
        "cutoff = 80 # % similarity\r\n",
        "\r\n",
        "my_filenames = [\r\n",
        "    os.path.join(root, name)\r\n",
        "    for root, dirs, files in os.walk(path)\r\n",
        "    for name in files\r\n",
        "    if name.endswith((\".xlsx\"))\r\n",
        "]\r\n",
        "# loop files\r\n",
        "for filename in my_filenames:\r\n",
        "    wb = load_workbook(filename)\r\n",
        "    dictionary[\"file\"] = filename\r\n",
        "    sheet_list = [sheet for sheet in wb.sheetnames if fnmatch(sheet, configs[\"Sheet\"])]\r\n",
        "    # last modified date\r\n",
        "    mod_date = datetime.fromtimestamp(os.path.getmtime(filename))\r\n",
        "    dictionary[\"Modified date\"] = mod_date\r\n",
        "    # loop sheets\r\n",
        "    for sheet in sheet_list:\r\n",
        "        dictionary[\"sheet\"] = sheet\r\n",
        "        df_sheet = pd.read_excel(\r\n",
        "            filename,\r\n",
        "            sheet_name=sheet,\r\n",
        "            engine=\"openpyxl\",\r\n",
        "            index_col=None,\r\n",
        "            header=None,\r\n",
        "            nrows=configs[\"Rows\"],\r\n",
        "        )\r\n",
        "        for row in list(range(0, configs[\"Rows\"])):\r\n",
        "            for name in configs['Column Names']:\r\n",
        "                match = process.extractBests(\r\n",
        "                    name,\r\n",
        "                    df_sheet.iloc[row],\r\n",
        "                    limit=limit,\r\n",
        "                    scorer=fuzz.token_sort_ratio,\r\n",
        "                    score_cutoff=cutoff,\r\n",
        "                )\r\n",
        "                if match:\r\n",
        "                    location = [i for i, x in enumerate(df_sheet.iloc[row] == match[0][0]) if x]\r\n",
        "                    result = df_sheet.iloc[row][location[0] + 1]\r\n",
        "                    dictionary[name] = result\r\n",
        "        df = df.append(dictionary, ignore_index=True)\r\n",
        "df"
      ],
      "execution_count": null,
      "outputs": []
    },
    {
      "cell_type": "code",
      "metadata": {
        "id": "2rKURpmvPm6U"
      },
      "source": [
        "# call function\n",
        "path = \"data/\"\n",
        "df = trashPanda(path)\n",
        "df.to_csv(r'data/output.csv')"
      ],
      "execution_count": null,
      "outputs": []
    }
  ]
}