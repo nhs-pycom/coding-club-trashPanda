{
  "nbformat": 4,
  "nbformat_minor": 0,
  "metadata": {
    "language_info": {
      "codemirror_mode": {
        "name": "ipython",
        "version": 3
      },
      "file_extension": ".py",
      "mimetype": "text/x-python",
      "name": "python",
      "nbconvert_exporter": "python",
      "pygments_lexer": "ipython3",
      "version": "3.8.5-final"
    },
    "orig_nbformat": 2,
    "kernelspec": {
      "name": "python3",
      "display_name": "Python 3",
      "language": "python"
    },
    "colab": {
      "name": "coding-club.ipynb",
      "provenance": [],
      "toc_visible": true,
      "include_colab_link": true
    }
  },
  "cells": [
    {
      "cell_type": "markdown",
      "metadata": {
        "id": "view-in-github",
        "colab_type": "text"
      },
      "source": [
        "<a href=\"https://colab.research.google.com/github/nhs-pycom/coding-club-trashPanda/blob/main/coding-club_complete.ipynb\" target=\"_parent\"><img src=\"https://colab.research.google.com/assets/colab-badge.svg\" alt=\"Open In Colab\"/></a>"
      ]
    },
    {
      "cell_type": "markdown",
      "metadata": {
        "id": "H9K3whwtYBFr"
      },
      "source": [
        "# Welcome to NHSX Coding Club\r\n",
        "\r\n",
        "## Lesson One: trashPanda\r\n",
        "\r\n",
        "### Pandas for excel"
      ]
    },
    {
      "cell_type": "code",
      "metadata": {
        "colab": {
          "base_uri": "https://localhost:8080/"
        },
        "id": "U-ZQGbA4YUPb",
        "outputId": "c7caee07-b287-4636-fdd2-2184e691ca6b"
      },
      "source": [
        "# clone coding club repo to google colab\r\n",
        "!git clone -l -s git://github.com/nhs-pycom/coding-club-trashPanda.git cloned-repo\r\n",
        "%cd cloned-repo\r\n",
        "!ls"
      ],
      "execution_count": 2,
      "outputs": [
        {
          "output_type": "stream",
          "text": [
            "Cloning into 'cloned-repo'...\n",
            "warning: --local is ignored\n",
            "remote: Enumerating objects: 51, done.\u001b[K\n",
            "remote: Counting objects:   1% (1/51)\u001b[K\rremote: Counting objects:   3% (2/51)\u001b[K\rremote: Counting objects:   5% (3/51)\u001b[K\rremote: Counting objects:   7% (4/51)\u001b[K\rremote: Counting objects:   9% (5/51)\u001b[K\rremote: Counting objects:  11% (6/51)\u001b[K\rremote: Counting objects:  13% (7/51)\u001b[K\rremote: Counting objects:  15% (8/51)\u001b[K\rremote: Counting objects:  17% (9/51)\u001b[K\rremote: Counting objects:  19% (10/51)\u001b[K\rremote: Counting objects:  21% (11/51)\u001b[K\rremote: Counting objects:  23% (12/51)\u001b[K\rremote: Counting objects:  25% (13/51)\u001b[K\rremote: Counting objects:  27% (14/51)\u001b[K\rremote: Counting objects:  29% (15/51)\u001b[K\rremote: Counting objects:  31% (16/51)\u001b[K\rremote: Counting objects:  33% (17/51)\u001b[K\rremote: Counting objects:  35% (18/51)\u001b[K\rremote: Counting objects:  37% (19/51)\u001b[K\rremote: Counting objects:  39% (20/51)\u001b[K\rremote: Counting objects:  41% (21/51)\u001b[K\rremote: Counting objects:  43% (22/51)\u001b[K\rremote: Counting objects:  45% (23/51)\u001b[K\rremote: Counting objects:  47% (24/51)\u001b[K\rremote: Counting objects:  49% (25/51)\u001b[K\rremote: Counting objects:  50% (26/51)\u001b[K\rremote: Counting objects:  52% (27/51)\u001b[K\rremote: Counting objects:  54% (28/51)\u001b[K\rremote: Counting objects:  56% (29/51)\u001b[K\rremote: Counting objects:  58% (30/51)\u001b[K\rremote: Counting objects:  60% (31/51)\u001b[K\rremote: Counting objects:  62% (32/51)\u001b[K\rremote: Counting objects:  64% (33/51)\u001b[K\rremote: Counting objects:  66% (34/51)\u001b[K\rremote: Counting objects:  68% (35/51)\u001b[K\rremote: Counting objects:  70% (36/51)\u001b[K\rremote: Counting objects:  72% (37/51)\u001b[K\rremote: Counting objects:  74% (38/51)\u001b[K\rremote: Counting objects:  76% (39/51)\u001b[K\rremote: Counting objects:  78% (40/51)\u001b[K\rremote: Counting objects:  80% (41/51)\u001b[K\rremote: Counting objects:  82% (42/51)\u001b[K\rremote: Counting objects:  84% (43/51)\u001b[K\rremote: Counting objects:  86% (44/51)\u001b[K\rremote: Counting objects:  88% (45/51)\u001b[K\rremote: Counting objects:  90% (46/51)\u001b[K\rremote: Counting objects:  92% (47/51)\u001b[K\rremote: Counting objects:  94% (48/51)\u001b[K\rremote: Counting objects:  96% (49/51)\u001b[K\rremote: Counting objects:  98% (50/51)\u001b[K\rremote: Counting objects: 100% (51/51)\u001b[K\rremote: Counting objects: 100% (51/51), done.\u001b[K\n",
            "remote: Compressing objects: 100% (44/44), done.\u001b[K\n",
            "remote: Total 51 (delta 21), reused 20 (delta 7), pack-reused 0\u001b[K\n",
            "Receiving objects: 100% (51/51), 84.25 KiB | 28.08 MiB/s, done.\n",
            "Resolving deltas: 100% (21/21), done.\n",
            "/content/cloned-repo\n",
            "coding-club_complete.ipynb  coding-club.ipynb  data  LICENSE  README.md\n"
          ],
          "name": "stdout"
        }
      ]
    },
    {
      "cell_type": "code",
      "metadata": {
        "colab": {
          "base_uri": "https://localhost:8080/",
          "height": 319
        },
        "id": "_yoSwdH7ZZ0k",
        "outputId": "313ec473-1fae-4f47-a925-e67e4a6489fa"
      },
      "source": [
        "import pandas as pd\r\n",
        "pd.set_option(\"display.max.columns\", None) # show all columns in dataframe\r\n",
        "\r\n",
        "# read an excel file from repo /data/ folder\r\n",
        "path = '/content/cloned-repo/data/tabular structure/Q1 Returns/Jan 2021.xlsx'\r\n",
        "df = pd.read_excel(path)\r\n",
        "df.head()"
      ],
      "execution_count": 3,
      "outputs": [
        {
          "output_type": "execute_result",
          "data": {
            "text/html": [
              "<div>\n",
              "<style scoped>\n",
              "    .dataframe tbody tr th:only-of-type {\n",
              "        vertical-align: middle;\n",
              "    }\n",
              "\n",
              "    .dataframe tbody tr th {\n",
              "        vertical-align: top;\n",
              "    }\n",
              "\n",
              "    .dataframe thead th {\n",
              "        text-align: right;\n",
              "    }\n",
              "</style>\n",
              "<table border=\"1\" class=\"dataframe\">\n",
              "  <thead>\n",
              "    <tr style=\"text-align: right;\">\n",
              "      <th></th>\n",
              "      <th>Org name:</th>\n",
              "      <th>Population:</th>\n",
              "      <th>Number of users:</th>\n",
              "      <th>Completed by:</th>\n",
              "      <th>Number of deployments:</th>\n",
              "      <th>Number of unique users:</th>\n",
              "      <th>Area name:</th>\n",
              "      <th>Number of records:</th>\n",
              "      <th>Number of views:</th>\n",
              "      <th>Date completed:</th>\n",
              "      <th>Number of errors:</th>\n",
              "    </tr>\n",
              "  </thead>\n",
              "  <tbody>\n",
              "    <tr>\n",
              "      <th>0</th>\n",
              "      <td>NHS CCG80</td>\n",
              "      <td>5028324</td>\n",
              "      <td>7580834</td>\n",
              "      <td>User51</td>\n",
              "      <td>573766</td>\n",
              "      <td>7916889</td>\n",
              "      <td>LA19</td>\n",
              "      <td>4836331</td>\n",
              "      <td>75242</td>\n",
              "      <td>2021-01-01</td>\n",
              "      <td>4337039</td>\n",
              "    </tr>\n",
              "    <tr>\n",
              "      <th>1</th>\n",
              "      <td>NHS CCG30</td>\n",
              "      <td>5576609</td>\n",
              "      <td>6015460</td>\n",
              "      <td>User18</td>\n",
              "      <td>9008336</td>\n",
              "      <td>5566608</td>\n",
              "      <td>LA82</td>\n",
              "      <td>1071840</td>\n",
              "      <td>8327830</td>\n",
              "      <td>2021-01-02</td>\n",
              "      <td>1235495</td>\n",
              "    </tr>\n",
              "    <tr>\n",
              "      <th>2</th>\n",
              "      <td>NHS CCG14</td>\n",
              "      <td>7003085</td>\n",
              "      <td>3030247</td>\n",
              "      <td>User13</td>\n",
              "      <td>4766644</td>\n",
              "      <td>2736534</td>\n",
              "      <td>LA69</td>\n",
              "      <td>1595565</td>\n",
              "      <td>8780011</td>\n",
              "      <td>2021-01-03</td>\n",
              "      <td>9508660</td>\n",
              "    </tr>\n",
              "    <tr>\n",
              "      <th>3</th>\n",
              "      <td>NHS CCG79</td>\n",
              "      <td>6442678</td>\n",
              "      <td>917949</td>\n",
              "      <td>User35</td>\n",
              "      <td>9251515</td>\n",
              "      <td>8881993</td>\n",
              "      <td>LA42</td>\n",
              "      <td>5903625</td>\n",
              "      <td>3382736</td>\n",
              "      <td>2021-01-04</td>\n",
              "      <td>9574924</td>\n",
              "    </tr>\n",
              "    <tr>\n",
              "      <th>4</th>\n",
              "      <td>NHS CCG88</td>\n",
              "      <td>6086618</td>\n",
              "      <td>7182337</td>\n",
              "      <td>User62</td>\n",
              "      <td>2341285</td>\n",
              "      <td>3065153</td>\n",
              "      <td>LA38</td>\n",
              "      <td>5014954</td>\n",
              "      <td>7751733</td>\n",
              "      <td>2021-01-05</td>\n",
              "      <td>9415369</td>\n",
              "    </tr>\n",
              "  </tbody>\n",
              "</table>\n",
              "</div>"
            ],
            "text/plain": [
              "   Org name:  Population:  Number of users: Completed by:  \\\n",
              "0  NHS CCG80      5028324           7580834        User51   \n",
              "1  NHS CCG30      5576609           6015460        User18   \n",
              "2  NHS CCG14      7003085           3030247        User13   \n",
              "3  NHS CCG79      6442678            917949        User35   \n",
              "4  NHS CCG88      6086618           7182337        User62   \n",
              "\n",
              "   Number of deployments:  Number of unique users: Area name:  \\\n",
              "0                  573766                  7916889       LA19   \n",
              "1                 9008336                  5566608       LA82   \n",
              "2                 4766644                  2736534       LA69   \n",
              "3                 9251515                  8881993       LA42   \n",
              "4                 2341285                  3065153       LA38   \n",
              "\n",
              "   Number of records:  Number of views: Date completed:  Number of errors:  \n",
              "0             4836331             75242      2021-01-01            4337039  \n",
              "1             1071840           8327830      2021-01-02            1235495  \n",
              "2             1595565           8780011      2021-01-03            9508660  \n",
              "3             5903625           3382736      2021-01-04            9574924  \n",
              "4             5014954           7751733      2021-01-05            9415369  "
            ]
          },
          "metadata": {
            "tags": []
          },
          "execution_count": 3
        }
      ]
    },
    {
      "cell_type": "code",
      "metadata": {
        "colab": {
          "base_uri": "https://localhost:8080/",
          "height": 350
        },
        "id": "1_7vhDULcex4",
        "outputId": "68ee07ec-aff6-42fa-ed31-63111fdebdd0"
      },
      "source": [
        "# specify which sheet to load and index column number (remember index starts at 0 in python)\r\n",
        "df = pd.read_excel(path, sheet_name=0, index_col=0)\r\n",
        "df.head()"
      ],
      "execution_count": 4,
      "outputs": [
        {
          "output_type": "execute_result",
          "data": {
            "text/html": [
              "<div>\n",
              "<style scoped>\n",
              "    .dataframe tbody tr th:only-of-type {\n",
              "        vertical-align: middle;\n",
              "    }\n",
              "\n",
              "    .dataframe tbody tr th {\n",
              "        vertical-align: top;\n",
              "    }\n",
              "\n",
              "    .dataframe thead th {\n",
              "        text-align: right;\n",
              "    }\n",
              "</style>\n",
              "<table border=\"1\" class=\"dataframe\">\n",
              "  <thead>\n",
              "    <tr style=\"text-align: right;\">\n",
              "      <th></th>\n",
              "      <th>Population:</th>\n",
              "      <th>Number of users:</th>\n",
              "      <th>Completed by:</th>\n",
              "      <th>Number of deployments:</th>\n",
              "      <th>Number of unique users:</th>\n",
              "      <th>Area name:</th>\n",
              "      <th>Number of records:</th>\n",
              "      <th>Number of views:</th>\n",
              "      <th>Date completed:</th>\n",
              "      <th>Number of errors:</th>\n",
              "    </tr>\n",
              "    <tr>\n",
              "      <th>Org name:</th>\n",
              "      <th></th>\n",
              "      <th></th>\n",
              "      <th></th>\n",
              "      <th></th>\n",
              "      <th></th>\n",
              "      <th></th>\n",
              "      <th></th>\n",
              "      <th></th>\n",
              "      <th></th>\n",
              "      <th></th>\n",
              "    </tr>\n",
              "  </thead>\n",
              "  <tbody>\n",
              "    <tr>\n",
              "      <th>NHS CCG80</th>\n",
              "      <td>5028324</td>\n",
              "      <td>7580834</td>\n",
              "      <td>User51</td>\n",
              "      <td>573766</td>\n",
              "      <td>7916889</td>\n",
              "      <td>LA19</td>\n",
              "      <td>4836331</td>\n",
              "      <td>75242</td>\n",
              "      <td>2021-01-01</td>\n",
              "      <td>4337039</td>\n",
              "    </tr>\n",
              "    <tr>\n",
              "      <th>NHS CCG30</th>\n",
              "      <td>5576609</td>\n",
              "      <td>6015460</td>\n",
              "      <td>User18</td>\n",
              "      <td>9008336</td>\n",
              "      <td>5566608</td>\n",
              "      <td>LA82</td>\n",
              "      <td>1071840</td>\n",
              "      <td>8327830</td>\n",
              "      <td>2021-01-02</td>\n",
              "      <td>1235495</td>\n",
              "    </tr>\n",
              "    <tr>\n",
              "      <th>NHS CCG14</th>\n",
              "      <td>7003085</td>\n",
              "      <td>3030247</td>\n",
              "      <td>User13</td>\n",
              "      <td>4766644</td>\n",
              "      <td>2736534</td>\n",
              "      <td>LA69</td>\n",
              "      <td>1595565</td>\n",
              "      <td>8780011</td>\n",
              "      <td>2021-01-03</td>\n",
              "      <td>9508660</td>\n",
              "    </tr>\n",
              "    <tr>\n",
              "      <th>NHS CCG79</th>\n",
              "      <td>6442678</td>\n",
              "      <td>917949</td>\n",
              "      <td>User35</td>\n",
              "      <td>9251515</td>\n",
              "      <td>8881993</td>\n",
              "      <td>LA42</td>\n",
              "      <td>5903625</td>\n",
              "      <td>3382736</td>\n",
              "      <td>2021-01-04</td>\n",
              "      <td>9574924</td>\n",
              "    </tr>\n",
              "    <tr>\n",
              "      <th>NHS CCG88</th>\n",
              "      <td>6086618</td>\n",
              "      <td>7182337</td>\n",
              "      <td>User62</td>\n",
              "      <td>2341285</td>\n",
              "      <td>3065153</td>\n",
              "      <td>LA38</td>\n",
              "      <td>5014954</td>\n",
              "      <td>7751733</td>\n",
              "      <td>2021-01-05</td>\n",
              "      <td>9415369</td>\n",
              "    </tr>\n",
              "  </tbody>\n",
              "</table>\n",
              "</div>"
            ],
            "text/plain": [
              "           Population:  Number of users: Completed by:  \\\n",
              "Org name:                                                \n",
              "NHS CCG80      5028324           7580834        User51   \n",
              "NHS CCG30      5576609           6015460        User18   \n",
              "NHS CCG14      7003085           3030247        User13   \n",
              "NHS CCG79      6442678            917949        User35   \n",
              "NHS CCG88      6086618           7182337        User62   \n",
              "\n",
              "           Number of deployments:  Number of unique users: Area name:  \\\n",
              "Org name:                                                               \n",
              "NHS CCG80                  573766                  7916889       LA19   \n",
              "NHS CCG30                 9008336                  5566608       LA82   \n",
              "NHS CCG14                 4766644                  2736534       LA69   \n",
              "NHS CCG79                 9251515                  8881993       LA42   \n",
              "NHS CCG88                 2341285                  3065153       LA38   \n",
              "\n",
              "           Number of records:  Number of views: Date completed:  \\\n",
              "Org name:                                                         \n",
              "NHS CCG80             4836331             75242      2021-01-01   \n",
              "NHS CCG30             1071840           8327830      2021-01-02   \n",
              "NHS CCG14             1595565           8780011      2021-01-03   \n",
              "NHS CCG79             5903625           3382736      2021-01-04   \n",
              "NHS CCG88             5014954           7751733      2021-01-05   \n",
              "\n",
              "           Number of errors:  \n",
              "Org name:                     \n",
              "NHS CCG80            4337039  \n",
              "NHS CCG30            1235495  \n",
              "NHS CCG14            9508660  \n",
              "NHS CCG79            9574924  \n",
              "NHS CCG88            9415369  "
            ]
          },
          "metadata": {
            "tags": []
          },
          "execution_count": 4
        }
      ]
    },
    {
      "cell_type": "code",
      "metadata": {
        "colab": {
          "base_uri": "https://localhost:8080/"
        },
        "id": "Fx5VJiHLdkmI",
        "outputId": "9296846b-bc5c-402f-e032-998e0983befb"
      },
      "source": [
        "df.info()"
      ],
      "execution_count": 5,
      "outputs": [
        {
          "output_type": "stream",
          "text": [
            "<class 'pandas.core.frame.DataFrame'>\n",
            "Index: 11 entries, NHS CCG80 to NHS CCG21\n",
            "Data columns (total 10 columns):\n",
            " #   Column                   Non-Null Count  Dtype         \n",
            "---  ------                   --------------  -----         \n",
            " 0   Population:              11 non-null     int64         \n",
            " 1   Number of users:         11 non-null     int64         \n",
            " 2   Completed by:            11 non-null     object        \n",
            " 3   Number of deployments:   11 non-null     int64         \n",
            " 4   Number of unique users:  11 non-null     int64         \n",
            " 5   Area name:               11 non-null     object        \n",
            " 6   Number of records:       11 non-null     int64         \n",
            " 7   Number of views:         11 non-null     int64         \n",
            " 8   Date completed:          11 non-null     datetime64[ns]\n",
            " 9   Number of errors:        11 non-null     int64         \n",
            "dtypes: datetime64[ns](1), int64(7), object(2)\n",
            "memory usage: 968.0+ bytes\n"
          ],
          "name": "stdout"
        }
      ]
    },
    {
      "cell_type": "code",
      "metadata": {
        "colab": {
          "base_uri": "https://localhost:8080/"
        },
        "id": "OZ8lIm_teN6O",
        "outputId": "fca44c8b-fcd7-473e-eef6-4be97c7e13e9"
      },
      "source": [
        "# basic transformations\r\n",
        "sort_population = df.sort_values(['Population:'], ascending=False)\r\n",
        "sort_population['Population:']"
      ],
      "execution_count": 6,
      "outputs": [
        {
          "output_type": "execute_result",
          "data": {
            "text/plain": [
              "Org name:\n",
              "NHS CCG29    7123329\n",
              "NHS CCG14    7003085\n",
              "NHS CCG79    6442678\n",
              "NHS CCG88    6086618\n",
              "NHS CCG30    5576609\n",
              "NHS CCG21    5474666\n",
              "NHS CCG80    5028324\n",
              "NHS CCG96    4481652\n",
              "NHS CCG87    3907967\n",
              "NHS CCG55    3079321\n",
              "NHS CCG53    2409241\n",
              "Name: Population:, dtype: int64"
            ]
          },
          "metadata": {
            "tags": []
          },
          "execution_count": 6
        }
      ]
    },
    {
      "cell_type": "code",
      "metadata": {
        "colab": {
          "base_uri": "https://localhost:8080/",
          "height": 278
        },
        "id": "7nByE0EofIkC",
        "outputId": "78084d0b-4a80-4d30-aa72-0dd5a4861640"
      },
      "source": [
        "import matplotlib.pyplot as plt\r\n",
        "\r\n",
        "# bar chart\r\n",
        "sort_population['Population:'].plot(kind=\"barh\")\r\n",
        "plt.show()"
      ],
      "execution_count": 7,
      "outputs": [
        {
          "output_type": "display_data",
          "data": {
            "image/png": "[encoded data removed]",
            "text/plain": [
              "<Figure size 432x288 with 1 Axes>"
            ]
          },
          "metadata": {
            "tags": [],
            "needs_background": "light"
          }
        }
      ]
    },
    {
      "cell_type": "code",
      "metadata": {
        "colab": {
          "base_uri": "https://localhost:8080/"
        },
        "id": "-TAzHyENfs-R",
        "outputId": "316f485a-fdac-4aec-e57b-a346f7682131"
      },
      "source": [
        "# discriptive statistics\r\n",
        "sort_population['Population:'].describe()"
      ],
      "execution_count": 8,
      "outputs": [
        {
          "output_type": "execute_result",
          "data": {
            "text/plain": [
              "count    1.100000e+01\n",
              "mean     5.146681e+06\n",
              "std      1.548132e+06\n",
              "min      2.409241e+06\n",
              "25%      4.194810e+06\n",
              "50%      5.474666e+06\n",
              "75%      6.264648e+06\n",
              "max      7.123329e+06\n",
              "Name: Population:, dtype: float64"
            ]
          },
          "metadata": {
            "tags": []
          },
          "execution_count": 8
        }
      ]
    },
    {
      "cell_type": "code",
      "metadata": {
        "colab": {
          "base_uri": "https://localhost:8080/"
        },
        "id": "ThChiIlhKBt5",
        "outputId": "b0af4d4d-fcd8-455c-ba58-351f51d8d7b3"
      },
      "source": [
        "# parse excel file as object\r\n",
        "excel_file = pd.ExcelFile(path)\r\n",
        "excel_file.sheet_names"
      ],
      "execution_count": 9,
      "outputs": [
        {
          "output_type": "execute_result",
          "data": {
            "text/plain": [
              "['CCG1', 'CCG2']"
            ]
          },
          "metadata": {
            "tags": []
          },
          "execution_count": 9
        }
      ]
    },
    {
      "cell_type": "code",
      "metadata": {
        "colab": {
          "base_uri": "https://localhost:8080/",
          "height": 319
        },
        "id": "xY1OYfodMYNg",
        "outputId": "01d3cd15-403e-4717-9a0c-e1291a732b7f"
      },
      "source": [
        "# parse sheet in excel file from sheet names list\r\n",
        "excel_file.parse(excel_file.sheet_names[0]).head()"
      ],
      "execution_count": 10,
      "outputs": [
        {
          "output_type": "execute_result",
          "data": {
            "text/html": [
              "<div>\n",
              "<style scoped>\n",
              "    .dataframe tbody tr th:only-of-type {\n",
              "        vertical-align: middle;\n",
              "    }\n",
              "\n",
              "    .dataframe tbody tr th {\n",
              "        vertical-align: top;\n",
              "    }\n",
              "\n",
              "    .dataframe thead th {\n",
              "        text-align: right;\n",
              "    }\n",
              "</style>\n",
              "<table border=\"1\" class=\"dataframe\">\n",
              "  <thead>\n",
              "    <tr style=\"text-align: right;\">\n",
              "      <th></th>\n",
              "      <th>Org name:</th>\n",
              "      <th>Population:</th>\n",
              "      <th>Number of users:</th>\n",
              "      <th>Completed by:</th>\n",
              "      <th>Number of deployments:</th>\n",
              "      <th>Number of unique users:</th>\n",
              "      <th>Area name:</th>\n",
              "      <th>Number of records:</th>\n",
              "      <th>Number of views:</th>\n",
              "      <th>Date completed:</th>\n",
              "      <th>Number of errors:</th>\n",
              "    </tr>\n",
              "  </thead>\n",
              "  <tbody>\n",
              "    <tr>\n",
              "      <th>0</th>\n",
              "      <td>NHS CCG80</td>\n",
              "      <td>5028324</td>\n",
              "      <td>7580834</td>\n",
              "      <td>User51</td>\n",
              "      <td>573766</td>\n",
              "      <td>7916889</td>\n",
              "      <td>LA19</td>\n",
              "      <td>4836331</td>\n",
              "      <td>75242</td>\n",
              "      <td>2021-01-01</td>\n",
              "      <td>4337039</td>\n",
              "    </tr>\n",
              "    <tr>\n",
              "      <th>1</th>\n",
              "      <td>NHS CCG30</td>\n",
              "      <td>5576609</td>\n",
              "      <td>6015460</td>\n",
              "      <td>User18</td>\n",
              "      <td>9008336</td>\n",
              "      <td>5566608</td>\n",
              "      <td>LA82</td>\n",
              "      <td>1071840</td>\n",
              "      <td>8327830</td>\n",
              "      <td>2021-01-02</td>\n",
              "      <td>1235495</td>\n",
              "    </tr>\n",
              "    <tr>\n",
              "      <th>2</th>\n",
              "      <td>NHS CCG14</td>\n",
              "      <td>7003085</td>\n",
              "      <td>3030247</td>\n",
              "      <td>User13</td>\n",
              "      <td>4766644</td>\n",
              "      <td>2736534</td>\n",
              "      <td>LA69</td>\n",
              "      <td>1595565</td>\n",
              "      <td>8780011</td>\n",
              "      <td>2021-01-03</td>\n",
              "      <td>9508660</td>\n",
              "    </tr>\n",
              "    <tr>\n",
              "      <th>3</th>\n",
              "      <td>NHS CCG79</td>\n",
              "      <td>6442678</td>\n",
              "      <td>917949</td>\n",
              "      <td>User35</td>\n",
              "      <td>9251515</td>\n",
              "      <td>8881993</td>\n",
              "      <td>LA42</td>\n",
              "      <td>5903625</td>\n",
              "      <td>3382736</td>\n",
              "      <td>2021-01-04</td>\n",
              "      <td>9574924</td>\n",
              "    </tr>\n",
              "    <tr>\n",
              "      <th>4</th>\n",
              "      <td>NHS CCG88</td>\n",
              "      <td>6086618</td>\n",
              "      <td>7182337</td>\n",
              "      <td>User62</td>\n",
              "      <td>2341285</td>\n",
              "      <td>3065153</td>\n",
              "      <td>LA38</td>\n",
              "      <td>5014954</td>\n",
              "      <td>7751733</td>\n",
              "      <td>2021-01-05</td>\n",
              "      <td>9415369</td>\n",
              "    </tr>\n",
              "  </tbody>\n",
              "</table>\n",
              "</div>"
            ],
            "text/plain": [
              "   Org name:  Population:  Number of users: Completed by:  \\\n",
              "0  NHS CCG80      5028324           7580834        User51   \n",
              "1  NHS CCG30      5576609           6015460        User18   \n",
              "2  NHS CCG14      7003085           3030247        User13   \n",
              "3  NHS CCG79      6442678            917949        User35   \n",
              "4  NHS CCG88      6086618           7182337        User62   \n",
              "\n",
              "   Number of deployments:  Number of unique users: Area name:  \\\n",
              "0                  573766                  7916889       LA19   \n",
              "1                 9008336                  5566608       LA82   \n",
              "2                 4766644                  2736534       LA69   \n",
              "3                 9251515                  8881993       LA42   \n",
              "4                 2341285                  3065153       LA38   \n",
              "\n",
              "   Number of records:  Number of views: Date completed:  Number of errors:  \n",
              "0             4836331             75242      2021-01-01            4337039  \n",
              "1             1071840           8327830      2021-01-02            1235495  \n",
              "2             1595565           8780011      2021-01-03            9508660  \n",
              "3             5903625           3382736      2021-01-04            9574924  \n",
              "4             5014954           7751733      2021-01-05            9415369  "
            ]
          },
          "metadata": {
            "tags": []
          },
          "execution_count": 10
        }
      ]
    },
    {
      "cell_type": "code",
      "metadata": {
        "colab": {
          "base_uri": "https://localhost:8080/",
          "height": 319
        },
        "id": "R18MfLEoLXTx",
        "outputId": "5c9190c8-9ae3-4957-9ecb-0a5075747f4a"
      },
      "source": [
        "# loop through sheets and concatanate them together\r\n",
        "temp_list = []\r\n",
        "for sheet in excel_file.sheet_names:\r\n",
        "   temp_list.append(excel_file.parse(sheet))\r\n",
        "all_df = pd.concat(temp_list)\r\n",
        "all_df.reset_index(drop=True, inplace=True) # reset index\r\n",
        "all_df.tail()"
      ],
      "execution_count": 11,
      "outputs": [
        {
          "output_type": "execute_result",
          "data": {
            "text/html": [
              "<div>\n",
              "<style scoped>\n",
              "    .dataframe tbody tr th:only-of-type {\n",
              "        vertical-align: middle;\n",
              "    }\n",
              "\n",
              "    .dataframe tbody tr th {\n",
              "        vertical-align: top;\n",
              "    }\n",
              "\n",
              "    .dataframe thead th {\n",
              "        text-align: right;\n",
              "    }\n",
              "</style>\n",
              "<table border=\"1\" class=\"dataframe\">\n",
              "  <thead>\n",
              "    <tr style=\"text-align: right;\">\n",
              "      <th></th>\n",
              "      <th>Org name:</th>\n",
              "      <th>Population:</th>\n",
              "      <th>Number of users:</th>\n",
              "      <th>Completed by:</th>\n",
              "      <th>Number of deployments:</th>\n",
              "      <th>Number of unique users:</th>\n",
              "      <th>Area name:</th>\n",
              "      <th>Number of records:</th>\n",
              "      <th>Number of views:</th>\n",
              "      <th>Date completed:</th>\n",
              "      <th>Number of errors:</th>\n",
              "    </tr>\n",
              "  </thead>\n",
              "  <tbody>\n",
              "    <tr>\n",
              "      <th>17</th>\n",
              "      <td>NHS CCG20</td>\n",
              "      <td>6972487</td>\n",
              "      <td>8091575</td>\n",
              "      <td>User30</td>\n",
              "      <td>680271</td>\n",
              "      <td>3525618</td>\n",
              "      <td>LA41</td>\n",
              "      <td>8690794</td>\n",
              "      <td>7603330</td>\n",
              "      <td>2021-01-07</td>\n",
              "      <td>9749200</td>\n",
              "    </tr>\n",
              "    <tr>\n",
              "      <th>18</th>\n",
              "      <td>NHS CCG1</td>\n",
              "      <td>4801859</td>\n",
              "      <td>1282710</td>\n",
              "      <td>User33</td>\n",
              "      <td>9915387</td>\n",
              "      <td>1791233</td>\n",
              "      <td>LA26</td>\n",
              "      <td>7568039</td>\n",
              "      <td>9747033</td>\n",
              "      <td>2021-01-08</td>\n",
              "      <td>3356155</td>\n",
              "    </tr>\n",
              "    <tr>\n",
              "      <th>19</th>\n",
              "      <td>NHS CCG19</td>\n",
              "      <td>6890099</td>\n",
              "      <td>5151370</td>\n",
              "      <td>User93</td>\n",
              "      <td>3869534</td>\n",
              "      <td>6472862</td>\n",
              "      <td>LA25</td>\n",
              "      <td>4745301</td>\n",
              "      <td>6403729</td>\n",
              "      <td>2021-01-09</td>\n",
              "      <td>4601477</td>\n",
              "    </tr>\n",
              "    <tr>\n",
              "      <th>20</th>\n",
              "      <td>NHS CCG16</td>\n",
              "      <td>3587195</td>\n",
              "      <td>5240919</td>\n",
              "      <td>User5</td>\n",
              "      <td>3038961</td>\n",
              "      <td>8836857</td>\n",
              "      <td>LA77</td>\n",
              "      <td>3393763</td>\n",
              "      <td>4290168</td>\n",
              "      <td>2021-01-10</td>\n",
              "      <td>8704829</td>\n",
              "    </tr>\n",
              "    <tr>\n",
              "      <th>21</th>\n",
              "      <td>NHS CCG63</td>\n",
              "      <td>1779590</td>\n",
              "      <td>7117013</td>\n",
              "      <td>User59</td>\n",
              "      <td>421936</td>\n",
              "      <td>6285159</td>\n",
              "      <td>LA93</td>\n",
              "      <td>5749566</td>\n",
              "      <td>775378</td>\n",
              "      <td>2021-01-11</td>\n",
              "      <td>6065086</td>\n",
              "    </tr>\n",
              "  </tbody>\n",
              "</table>\n",
              "</div>"
            ],
            "text/plain": [
              "    Org name:  Population:  Number of users: Completed by:  \\\n",
              "17  NHS CCG20      6972487           8091575        User30   \n",
              "18   NHS CCG1      4801859           1282710        User33   \n",
              "19  NHS CCG19      6890099           5151370        User93   \n",
              "20  NHS CCG16      3587195           5240919         User5   \n",
              "21  NHS CCG63      1779590           7117013        User59   \n",
              "\n",
              "    Number of deployments:  Number of unique users: Area name:  \\\n",
              "17                  680271                  3525618       LA41   \n",
              "18                 9915387                  1791233       LA26   \n",
              "19                 3869534                  6472862       LA25   \n",
              "20                 3038961                  8836857       LA77   \n",
              "21                  421936                  6285159       LA93   \n",
              "\n",
              "    Number of records:  Number of views: Date completed:  Number of errors:  \n",
              "17             8690794           7603330      2021-01-07            9749200  \n",
              "18             7568039           9747033      2021-01-08            3356155  \n",
              "19             4745301           6403729      2021-01-09            4601477  \n",
              "20             3393763           4290168      2021-01-10            8704829  \n",
              "21             5749566            775378      2021-01-11            6065086  "
            ]
          },
          "metadata": {
            "tags": []
          },
          "execution_count": 11
        }
      ]
    },
    {
      "cell_type": "code",
      "metadata": {
        "colab": {
          "base_uri": "https://localhost:8080/"
        },
        "id": "ARQlzgzWNDbr",
        "outputId": "12650efa-8fbe-4a87-b6be-360cfe9d4930"
      },
      "source": [
        "import os\r\n",
        "\r\n",
        "path = \"/content/cloned-repo/data/tabular structure/\"\r\n",
        "my_filenames = [\r\n",
        "    os.path.join(root, name) # join root folder and name of file\r\n",
        "    for root, dirs, files in os.walk(path) # for all files and directories in path\r\n",
        "    for name in files\r\n",
        "    if name.endswith((\".xlsx\")) # that end with .xlsx (excel files)\r\n",
        "]\r\n",
        "my_filenames"
      ],
      "execution_count": 12,
      "outputs": [
        {
          "output_type": "execute_result",
          "data": {
            "text/plain": [
              "['/content/cloned-repo/data/tabular structure/Q1 Returns/Jan 2021.xlsx',\n",
              " '/content/cloned-repo/data/tabular structure/Q1 Returns/Apr 2021.xlsx',\n",
              " '/content/cloned-repo/data/tabular structure/Q1 Returns/Feb 2021.xlsx',\n",
              " '/content/cloned-repo/data/tabular structure/Q1 Returns/March 2021.xlsx',\n",
              " '/content/cloned-repo/data/tabular structure/Q2 Returns/May 2021.xlsx',\n",
              " '/content/cloned-repo/data/tabular structure/Q2 Returns/July 2021.xlsx',\n",
              " '/content/cloned-repo/data/tabular structure/Q2 Returns/June 2021.xlsx']"
            ]
          },
          "metadata": {
            "tags": []
          },
          "execution_count": 12
        }
      ]
    },
    {
      "cell_type": "code",
      "metadata": {
        "colab": {
          "base_uri": "https://localhost:8080/",
          "height": 319
        },
        "id": "62OjOg72Qbwx",
        "outputId": "da1df2e5-6e80-4082-e47c-3288a31c9fb1"
      },
      "source": [
        "from fnmatch import fnmatch\r\n",
        "\r\n",
        "temp_list = []\r\n",
        "\r\n",
        "for filename in my_filenames:\r\n",
        "    excel_file = pd.ExcelFile(filename)\r\n",
        "    # filter out non-data sheets by calling those with 'CCG' in name\r\n",
        "    sheet_list = [sheet for sheet in excel_file.sheet_names if fnmatch(sheet, \"*CCG*\")]\r\n",
        "    for sheet in excel_file.sheet_names:\r\n",
        "      temp_list.append(excel_file.parse(sheet)) # parse each sheet into list\r\n",
        "all_df = pd.concat(temp_list)\r\n",
        "all_df.reset_index(drop=True, inplace=True) # reset index\r\n",
        "all_df.tail()"
      ],
      "execution_count": 13,
      "outputs": [
        {
          "output_type": "execute_result",
          "data": {
            "text/html": [
              "<div>\n",
              "<style scoped>\n",
              "    .dataframe tbody tr th:only-of-type {\n",
              "        vertical-align: middle;\n",
              "    }\n",
              "\n",
              "    .dataframe tbody tr th {\n",
              "        vertical-align: top;\n",
              "    }\n",
              "\n",
              "    .dataframe thead th {\n",
              "        text-align: right;\n",
              "    }\n",
              "</style>\n",
              "<table border=\"1\" class=\"dataframe\">\n",
              "  <thead>\n",
              "    <tr style=\"text-align: right;\">\n",
              "      <th></th>\n",
              "      <th>Org name:</th>\n",
              "      <th>Population:</th>\n",
              "      <th>Number of users:</th>\n",
              "      <th>Completed by:</th>\n",
              "      <th>Number of deployments:</th>\n",
              "      <th>Number of unique users:</th>\n",
              "      <th>Area name:</th>\n",
              "      <th>Number of records:</th>\n",
              "      <th>Number of views:</th>\n",
              "      <th>Date completed:</th>\n",
              "      <th>Number of errors:</th>\n",
              "    </tr>\n",
              "  </thead>\n",
              "  <tbody>\n",
              "    <tr>\n",
              "      <th>149</th>\n",
              "      <td>NHS CCG19</td>\n",
              "      <td>2153925</td>\n",
              "      <td>9823668</td>\n",
              "      <td>User33</td>\n",
              "      <td>5527932</td>\n",
              "      <td>1623502</td>\n",
              "      <td>LA87</td>\n",
              "      <td>977882</td>\n",
              "      <td>9468516</td>\n",
              "      <td>2021-01-07</td>\n",
              "      <td>7352731</td>\n",
              "    </tr>\n",
              "    <tr>\n",
              "      <th>150</th>\n",
              "      <td>NHS CCG50</td>\n",
              "      <td>5674270</td>\n",
              "      <td>1504784</td>\n",
              "      <td>User30</td>\n",
              "      <td>3939465</td>\n",
              "      <td>6360034</td>\n",
              "      <td>LA28</td>\n",
              "      <td>2396027</td>\n",
              "      <td>8425678</td>\n",
              "      <td>2021-01-08</td>\n",
              "      <td>9000793</td>\n",
              "    </tr>\n",
              "    <tr>\n",
              "      <th>151</th>\n",
              "      <td>NHS CCG6</td>\n",
              "      <td>865441</td>\n",
              "      <td>6941114</td>\n",
              "      <td>User50</td>\n",
              "      <td>3266461</td>\n",
              "      <td>9447450</td>\n",
              "      <td>LA79</td>\n",
              "      <td>7257500</td>\n",
              "      <td>6335341</td>\n",
              "      <td>2021-01-09</td>\n",
              "      <td>6128863</td>\n",
              "    </tr>\n",
              "    <tr>\n",
              "      <th>152</th>\n",
              "      <td>NHS CCG58</td>\n",
              "      <td>2077045</td>\n",
              "      <td>9204487</td>\n",
              "      <td>User99</td>\n",
              "      <td>852036</td>\n",
              "      <td>1998688</td>\n",
              "      <td>LA44</td>\n",
              "      <td>8176423</td>\n",
              "      <td>9369011</td>\n",
              "      <td>2021-01-10</td>\n",
              "      <td>7725756</td>\n",
              "    </tr>\n",
              "    <tr>\n",
              "      <th>153</th>\n",
              "      <td>NHS CCG1</td>\n",
              "      <td>6501918</td>\n",
              "      <td>5515061</td>\n",
              "      <td>User66</td>\n",
              "      <td>5124361</td>\n",
              "      <td>1080392</td>\n",
              "      <td>LA42</td>\n",
              "      <td>3611778</td>\n",
              "      <td>7872197</td>\n",
              "      <td>2021-01-11</td>\n",
              "      <td>4132871</td>\n",
              "    </tr>\n",
              "  </tbody>\n",
              "</table>\n",
              "</div>"
            ],
            "text/plain": [
              "     Org name:  Population:  Number of users: Completed by:  \\\n",
              "149  NHS CCG19      2153925           9823668        User33   \n",
              "150  NHS CCG50      5674270           1504784        User30   \n",
              "151   NHS CCG6       865441           6941114        User50   \n",
              "152  NHS CCG58      2077045           9204487        User99   \n",
              "153   NHS CCG1      6501918           5515061        User66   \n",
              "\n",
              "     Number of deployments:  Number of unique users: Area name:  \\\n",
              "149                 5527932                  1623502       LA87   \n",
              "150                 3939465                  6360034       LA28   \n",
              "151                 3266461                  9447450       LA79   \n",
              "152                  852036                  1998688       LA44   \n",
              "153                 5124361                  1080392       LA42   \n",
              "\n",
              "     Number of records:  Number of views: Date completed:  Number of errors:  \n",
              "149              977882           9468516      2021-01-07            7352731  \n",
              "150             2396027           8425678      2021-01-08            9000793  \n",
              "151             7257500           6335341      2021-01-09            6128863  \n",
              "152             8176423           9369011      2021-01-10            7725756  \n",
              "153             3611778           7872197      2021-01-11            4132871  "
            ]
          },
          "metadata": {
            "tags": []
          },
          "execution_count": 13
        }
      ]
    },
    {
      "cell_type": "code",
      "metadata": {
        "id": "sWF7rzy6WKUR",
        "colab": {
          "base_uri": "https://localhost:8080/",
          "height": 615
        },
        "outputId": "4703cc23-bc2c-469a-c310-b06224abd6b0"
      },
      "source": [
        "temp_list = []\r\n",
        "\r\n",
        "for filename in my_filenames:\r\n",
        "    excel_file = pd.ExcelFile(filename)\r\n",
        "    # filter out non-data sheets by calling those with 'CCG' in name\r\n",
        "    sheet_list = [sheet for sheet in excel_file.sheet_names if fnmatch(sheet, \"*CCG*\")]\r\n",
        "    for sheet in excel_file.sheet_names:\r\n",
        "      temp_list.append(excel_file.parse(sheet)) # parse each sheet into list\r\n",
        "df = pd.concat(temp_list)\r\n",
        "df.reset_index(drop=True, inplace=True) # reset index\r\n",
        "df"
      ],
      "execution_count": 22,
      "outputs": [
        {
          "output_type": "execute_result",
          "data": {
            "text/html": [
              "<div>\n",
              "<style scoped>\n",
              "    .dataframe tbody tr th:only-of-type {\n",
              "        vertical-align: middle;\n",
              "    }\n",
              "\n",
              "    .dataframe tbody tr th {\n",
              "        vertical-align: top;\n",
              "    }\n",
              "\n",
              "    .dataframe thead th {\n",
              "        text-align: right;\n",
              "    }\n",
              "</style>\n",
              "<table border=\"1\" class=\"dataframe\">\n",
              "  <thead>\n",
              "    <tr style=\"text-align: right;\">\n",
              "      <th></th>\n",
              "      <th>Org name:</th>\n",
              "      <th>Population:</th>\n",
              "      <th>Number of users:</th>\n",
              "      <th>Completed by:</th>\n",
              "      <th>Number of deployments:</th>\n",
              "      <th>Number of unique users:</th>\n",
              "      <th>Area name:</th>\n",
              "      <th>Number of records:</th>\n",
              "      <th>Number of views:</th>\n",
              "      <th>Date completed:</th>\n",
              "      <th>Number of errors:</th>\n",
              "    </tr>\n",
              "  </thead>\n",
              "  <tbody>\n",
              "    <tr>\n",
              "      <th>0</th>\n",
              "      <td>NHS CCG80</td>\n",
              "      <td>5028324</td>\n",
              "      <td>7580834</td>\n",
              "      <td>User51</td>\n",
              "      <td>573766</td>\n",
              "      <td>7916889</td>\n",
              "      <td>LA19</td>\n",
              "      <td>4836331</td>\n",
              "      <td>75242</td>\n",
              "      <td>2021-01-01</td>\n",
              "      <td>4337039</td>\n",
              "    </tr>\n",
              "    <tr>\n",
              "      <th>1</th>\n",
              "      <td>NHS CCG30</td>\n",
              "      <td>5576609</td>\n",
              "      <td>6015460</td>\n",
              "      <td>User18</td>\n",
              "      <td>9008336</td>\n",
              "      <td>5566608</td>\n",
              "      <td>LA82</td>\n",
              "      <td>1071840</td>\n",
              "      <td>8327830</td>\n",
              "      <td>2021-01-02</td>\n",
              "      <td>1235495</td>\n",
              "    </tr>\n",
              "    <tr>\n",
              "      <th>2</th>\n",
              "      <td>NHS CCG14</td>\n",
              "      <td>7003085</td>\n",
              "      <td>3030247</td>\n",
              "      <td>User13</td>\n",
              "      <td>4766644</td>\n",
              "      <td>2736534</td>\n",
              "      <td>LA69</td>\n",
              "      <td>1595565</td>\n",
              "      <td>8780011</td>\n",
              "      <td>2021-01-03</td>\n",
              "      <td>9508660</td>\n",
              "    </tr>\n",
              "    <tr>\n",
              "      <th>3</th>\n",
              "      <td>NHS CCG79</td>\n",
              "      <td>6442678</td>\n",
              "      <td>917949</td>\n",
              "      <td>User35</td>\n",
              "      <td>9251515</td>\n",
              "      <td>8881993</td>\n",
              "      <td>LA42</td>\n",
              "      <td>5903625</td>\n",
              "      <td>3382736</td>\n",
              "      <td>2021-01-04</td>\n",
              "      <td>9574924</td>\n",
              "    </tr>\n",
              "    <tr>\n",
              "      <th>4</th>\n",
              "      <td>NHS CCG88</td>\n",
              "      <td>6086618</td>\n",
              "      <td>7182337</td>\n",
              "      <td>User62</td>\n",
              "      <td>2341285</td>\n",
              "      <td>3065153</td>\n",
              "      <td>LA38</td>\n",
              "      <td>5014954</td>\n",
              "      <td>7751733</td>\n",
              "      <td>2021-01-05</td>\n",
              "      <td>9415369</td>\n",
              "    </tr>\n",
              "    <tr>\n",
              "      <th>...</th>\n",
              "      <td>...</td>\n",
              "      <td>...</td>\n",
              "      <td>...</td>\n",
              "      <td>...</td>\n",
              "      <td>...</td>\n",
              "      <td>...</td>\n",
              "      <td>...</td>\n",
              "      <td>...</td>\n",
              "      <td>...</td>\n",
              "      <td>...</td>\n",
              "      <td>...</td>\n",
              "    </tr>\n",
              "    <tr>\n",
              "      <th>149</th>\n",
              "      <td>NHS CCG19</td>\n",
              "      <td>2153925</td>\n",
              "      <td>9823668</td>\n",
              "      <td>User33</td>\n",
              "      <td>5527932</td>\n",
              "      <td>1623502</td>\n",
              "      <td>LA87</td>\n",
              "      <td>977882</td>\n",
              "      <td>9468516</td>\n",
              "      <td>2021-01-07</td>\n",
              "      <td>7352731</td>\n",
              "    </tr>\n",
              "    <tr>\n",
              "      <th>150</th>\n",
              "      <td>NHS CCG50</td>\n",
              "      <td>5674270</td>\n",
              "      <td>1504784</td>\n",
              "      <td>User30</td>\n",
              "      <td>3939465</td>\n",
              "      <td>6360034</td>\n",
              "      <td>LA28</td>\n",
              "      <td>2396027</td>\n",
              "      <td>8425678</td>\n",
              "      <td>2021-01-08</td>\n",
              "      <td>9000793</td>\n",
              "    </tr>\n",
              "    <tr>\n",
              "      <th>151</th>\n",
              "      <td>NHS CCG6</td>\n",
              "      <td>865441</td>\n",
              "      <td>6941114</td>\n",
              "      <td>User50</td>\n",
              "      <td>3266461</td>\n",
              "      <td>9447450</td>\n",
              "      <td>LA79</td>\n",
              "      <td>7257500</td>\n",
              "      <td>6335341</td>\n",
              "      <td>2021-01-09</td>\n",
              "      <td>6128863</td>\n",
              "    </tr>\n",
              "    <tr>\n",
              "      <th>152</th>\n",
              "      <td>NHS CCG58</td>\n",
              "      <td>2077045</td>\n",
              "      <td>9204487</td>\n",
              "      <td>User99</td>\n",
              "      <td>852036</td>\n",
              "      <td>1998688</td>\n",
              "      <td>LA44</td>\n",
              "      <td>8176423</td>\n",
              "      <td>9369011</td>\n",
              "      <td>2021-01-10</td>\n",
              "      <td>7725756</td>\n",
              "    </tr>\n",
              "    <tr>\n",
              "      <th>153</th>\n",
              "      <td>NHS CCG1</td>\n",
              "      <td>6501918</td>\n",
              "      <td>5515061</td>\n",
              "      <td>User66</td>\n",
              "      <td>5124361</td>\n",
              "      <td>1080392</td>\n",
              "      <td>LA42</td>\n",
              "      <td>3611778</td>\n",
              "      <td>7872197</td>\n",
              "      <td>2021-01-11</td>\n",
              "      <td>4132871</td>\n",
              "    </tr>\n",
              "  </tbody>\n",
              "</table>\n",
              "<p>154 rows × 11 columns</p>\n",
              "</div>"
            ],
            "text/plain": [
              "     Org name:  Population:  Number of users: Completed by:  \\\n",
              "0    NHS CCG80      5028324           7580834        User51   \n",
              "1    NHS CCG30      5576609           6015460        User18   \n",
              "2    NHS CCG14      7003085           3030247        User13   \n",
              "3    NHS CCG79      6442678            917949        User35   \n",
              "4    NHS CCG88      6086618           7182337        User62   \n",
              "..         ...          ...               ...           ...   \n",
              "149  NHS CCG19      2153925           9823668        User33   \n",
              "150  NHS CCG50      5674270           1504784        User30   \n",
              "151   NHS CCG6       865441           6941114        User50   \n",
              "152  NHS CCG58      2077045           9204487        User99   \n",
              "153   NHS CCG1      6501918           5515061        User66   \n",
              "\n",
              "     Number of deployments:  Number of unique users: Area name:  \\\n",
              "0                    573766                  7916889       LA19   \n",
              "1                   9008336                  5566608       LA82   \n",
              "2                   4766644                  2736534       LA69   \n",
              "3                   9251515                  8881993       LA42   \n",
              "4                   2341285                  3065153       LA38   \n",
              "..                      ...                      ...        ...   \n",
              "149                 5527932                  1623502       LA87   \n",
              "150                 3939465                  6360034       LA28   \n",
              "151                 3266461                  9447450       LA79   \n",
              "152                  852036                  1998688       LA44   \n",
              "153                 5124361                  1080392       LA42   \n",
              "\n",
              "     Number of records:  Number of views: Date completed:  Number of errors:  \n",
              "0               4836331             75242      2021-01-01            4337039  \n",
              "1               1071840           8327830      2021-01-02            1235495  \n",
              "2               1595565           8780011      2021-01-03            9508660  \n",
              "3               5903625           3382736      2021-01-04            9574924  \n",
              "4               5014954           7751733      2021-01-05            9415369  \n",
              "..                  ...               ...             ...                ...  \n",
              "149              977882           9468516      2021-01-07            7352731  \n",
              "150             2396027           8425678      2021-01-08            9000793  \n",
              "151             7257500           6335341      2021-01-09            6128863  \n",
              "152             8176423           9369011      2021-01-10            7725756  \n",
              "153             3611778           7872197      2021-01-11            4132871  \n",
              "\n",
              "[154 rows x 11 columns]"
            ]
          },
          "metadata": {
            "tags": []
          },
          "execution_count": 22
        }
      ]
    },
    {
      "cell_type": "code",
      "metadata": {
        "id": "fmLGyKMFczaa"
      },
      "source": [
        "df.to_csv(r'data/output.csv')"
      ],
      "execution_count": 23,
      "outputs": []
    },
    {
      "cell_type": "markdown",
      "metadata": {
        "id": "kAZAlv9cGSMW"
      },
      "source": [
        "# trashPanda"
      ]
    },
    {
      "cell_type": "code",
      "metadata": {
        "id": "tpFBpibGPm6O",
        "outputId": "46368b33-c8a5-44b6-aa9b-ba8b486422ad",
        "colab": {
          "base_uri": "https://localhost:8080/"
        }
      },
      "source": [
        "from openpyxl import load_workbook\r\n",
        "\r\n",
        "path = '/content/cloned-repo/data/poor structure/Q1 Returns/Jan 2021.xlsx'\r\n",
        "# Load in the workbook\r\n",
        "wb = load_workbook(path)\r\n",
        "\r\n",
        "# Get sheet names\r\n",
        "print(wb.sheetnames)"
      ],
      "execution_count": 41,
      "outputs": [
        {
          "output_type": "stream",
          "text": [
            "['CCG1', 'CCG2', 'CCG3', 'CCG4', 'CCG5']\n"
          ],
          "name": "stdout"
        }
      ]
    },
    {
      "cell_type": "code",
      "metadata": {
        "id": "vi39i13HPm6T",
        "colab": {
          "base_uri": "https://localhost:8080/"
        },
        "outputId": "2e295af0-b096-4a80-a9ff-b9648f33bd12"
      },
      "source": [
        "from datetime import datetime\n",
        "\n",
        "# last modified datex\n",
        "time_stamp = os.path.getmtime(path)\n",
        "print(time_stamp)"
      ],
      "execution_count": 42,
      "outputs": [
        {
          "output_type": "stream",
          "text": [
            "1615406647.5956013\n"
          ],
          "name": "stdout"
        }
      ]
    },
    {
      "cell_type": "code",
      "metadata": {
        "id": "2rzllSftPm6T",
        "colab": {
          "base_uri": "https://localhost:8080/"
        },
        "outputId": "1aa06518-4293-4297-8bc5-b3e4d76843e5"
      },
      "source": [
        "# last modified date\n",
        "mod_date = datetime.fromtimestamp(time_stamp).strftime(\"%Y-%m-%d %H:%M:%S\")\n",
        "print(mod_date)"
      ],
      "execution_count": 43,
      "outputs": [
        {
          "output_type": "stream",
          "text": [
            "2021-03-10 20:04:07\n"
          ],
          "name": "stdout"
        }
      ]
    },
    {
      "cell_type": "code",
      "metadata": {
        "id": "c92QGKBTPm6U"
      },
      "source": [
        "# py_ingest_ShCR function\n",
        "import os\n",
        "from datetime import datetime\n",
        "from fnmatch import fnmatch\n",
        "\n",
        "\n",
        "def trashPanda(path):\n",
        "    \"\"\"Searches root directory for all unstructured excel files, extracts data and returns structured pandas dataframe.\"\"\"\n",
        "    my_filenames = [\n",
        "        os.path.join(root, name)\n",
        "        for root, dirs, files in os.walk(path)\n",
        "        for name in files\n",
        "        if name.endswith((\".xlsx\"))\n",
        "    ]\n",
        "    df = pd.DataFrame(\n",
        "        columns=[\n",
        "            \"file\",\n",
        "            \"mod_date\",\n",
        "            \"sheet\",\n",
        "            \"ShCR Programme Name\",\n",
        "            \"ICS/STP Name\",\n",
        "            \"Author\",\n",
        "            \"Date completed\",\n",
        "            \"Population\",\n",
        "            \"Number of citizen records available\",\n",
        "            \"Progress with deployment\",\n",
        "            \"Number of users with Authorised access\",\n",
        "            \"Number of ShCR views/past month\",\n",
        "            \"Number of unique user ShCR views/past month\",\n",
        "            \"Name of ShCR\",\n",
        "        ]\n",
        "    )\n",
        "    for filename in my_filenames:\n",
        "        wb = load_workbook(filename)\n",
        "        sheet_list = [\n",
        "            sheet for sheet in wb.sheetnames if fnmatch(sheet, \"*CCG*\")\n",
        "        ]\n",
        "        # last modified date\n",
        "        mod_date = datetime.fromtimestamp(os.path.getmtime(filename)).strftime(\n",
        "            \"%Y-%m-%d\"\n",
        "        )\n",
        "        for sheet in sheet_list:\n",
        "            df = df.append(\n",
        "                {\n",
        "                    \"file\": filename,\n",
        "                    \"mod_date\": mod_date,\n",
        "                    \"sheet\": wb[sheet].title,\n",
        "                    \"ShCR Programme Name\": wb[sheet][\"B1\"].value,\n",
        "                    \"ICS/STP Name\": wb[sheet][\"D1\"].value,\n",
        "                    \"Author\": wb[sheet][\"F1\"].value,\n",
        "                    \"Date completed\": wb[sheet][\"H1\"].value,\n",
        "                    \"Population\": wb[sheet][\"B2\"].value,\n",
        "                    \"Number of citizen records available\": wb[sheet][\"E2\"].value,\n",
        "                    \"Progress with deployment\": wb[sheet][\"G2\"].value,\n",
        "                    \"Number of users with Authorised access\": wb[sheet][\"B3\"].value,\n",
        "                    \"Number of ShCR views/past month\": wb[sheet][\"D3\"].value,\n",
        "                    \"Number of unique user ShCR views/past month\": wb[sheet][\"F3\"].value,\n",
        "                    \"Name of ShCR\": wb[sheet][\"H3\"].value,\n",
        "                },\n",
        "                ignore_index=True,\n",
        "            )\n",
        "    return df"
      ],
      "execution_count": 34,
      "outputs": []
    },
    {
      "cell_type": "code",
      "metadata": {
        "id": "4EOzZFfxFkTM"
      },
      "source": [
        "# call function\r\n",
        "path = \"/content/cloned-repo/data/poor structure/\"\r\n",
        "df = trashPanda(path)\r\n",
        "df.to_csv(r'data/output.csv')"
      ],
      "execution_count": 35,
      "outputs": []
    },
    {
      "cell_type": "markdown",
      "metadata": {
        "id": "-CVett8rGNWR"
      },
      "source": [
        "# Fuzzywuzzy"
      ]
    },
    {
      "cell_type": "code",
      "metadata": {
        "id": "0MRsKJZakPzw"
      },
      "source": [
        "import os\r\n",
        "import yaml\r\n",
        "import pandas as pd\r\n",
        "from openpyxl import load_workbook\r\n",
        "from datetime import datetime\r\n",
        "from fnmatch import fnmatch\r\n",
        "from fuzzywuzzy import process\r\n",
        "from fuzzywuzzy import fuzz\r\n",
        "\r\n",
        "config = 'config.yaml'\r\n",
        "with open(config, \"r\") as yamlfile:\r\n",
        "    configs = yaml.load(yamlfile, Loader=yaml.FullLoader)\r\n",
        "\r\n",
        "path = \"data/\"\r\n",
        "df = pd.DataFrame(columns=configs['Column Names'])\r\n",
        "dictionary = {}\r\n",
        "limit = 1   # Number of results to return\r\n",
        "cutoff = 80 # % similarity\r\n",
        "\r\n",
        "my_filenames = [\r\n",
        "    os.path.join(root, name)\r\n",
        "    for root, dirs, files in os.walk(path)\r\n",
        "    for name in files\r\n",
        "    if name.endswith((\".xlsx\"))\r\n",
        "]\r\n",
        "# loop files\r\n",
        "for filename in my_filenames:\r\n",
        "    wb = load_workbook(filename)\r\n",
        "    dictionary[\"file\"] = filename\r\n",
        "    sheet_list = [sheet for sheet in wb.sheetnames if fnmatch(sheet, configs[\"Sheet\"])]\r\n",
        "    # last modified date\r\n",
        "    mod_date = datetime.fromtimestamp(os.path.getmtime(filename))\r\n",
        "    dictionary[\"Modified date\"] = mod_date\r\n",
        "    # loop sheets\r\n",
        "    for sheet in sheet_list:\r\n",
        "        dictionary[\"sheet\"] = sheet\r\n",
        "        df_sheet = pd.read_excel(\r\n",
        "            filename,\r\n",
        "            sheet_name=sheet,\r\n",
        "            engine=\"openpyxl\",\r\n",
        "            index_col=None,\r\n",
        "            header=None,\r\n",
        "            nrows=configs[\"Rows\"],\r\n",
        "        )\r\n",
        "        for row in list(range(0, configs[\"Rows\"])):\r\n",
        "            for name in configs['Column Names']:\r\n",
        "                match = process.extractBests(\r\n",
        "                    name,\r\n",
        "                    df_sheet.iloc[row],\r\n",
        "                    limit=limit,\r\n",
        "                    scorer=fuzz.token_sort_ratio,\r\n",
        "                    score_cutoff=cutoff,\r\n",
        "                )\r\n",
        "                if match:\r\n",
        "                    location = [i for i, x in enumerate(df_sheet.iloc[row] == match[0][0]) if x]\r\n",
        "                    result = df_sheet.iloc[row][location[0] + 1]\r\n",
        "                    dictionary[name] = result\r\n",
        "        df = df.append(dictionary, ignore_index=True)\r\n",
        "df"
      ],
      "execution_count": null,
      "outputs": []
    },
    {
      "cell_type": "code",
      "metadata": {
        "id": "2rKURpmvPm6U"
      },
      "source": [
        "# call function\n",
        "path = \"data/\"\n",
        "df = trashPanda(path)\n",
        "df.to_csv(r'data/output.csv')"
      ],
      "execution_count": null,
      "outputs": []
    }
  ]
}