{
  "nbformat": 4,
  "nbformat_minor": 0,
  "metadata": {
    "language_info": {
      "codemirror_mode": {
        "name": "ipython",
        "version": 3
      },
      "file_extension": ".py",
      "mimetype": "text/x-python",
      "name": "python",
      "nbconvert_exporter": "python",
      "pygments_lexer": "ipython3",
      "version": "3.8.5-final"
    },
    "orig_nbformat": 2,
    "kernelspec": {
      "name": "python3",
      "display_name": "Python 3",
      "language": "python"
    },
    "colab": {
      "name": "coding-club.ipynb",
      "provenance": [],
      "toc_visible": true,
      "include_colab_link": true
    }
  },
  "cells": [
    {
      "cell_type": "markdown",
      "metadata": {
        "id": "view-in-github",
        "colab_type": "text"
      },
      "source": [
        "<a href=\"https://colab.research.google.com/github/nhs-pycom/coding-club-trashPanda/blob/main/coding-club_complete.ipynb\" target=\"_parent\"><img src=\"https://colab.research.google.com/assets/colab-badge.svg\" alt=\"Open In Colab\"/></a>"
      ]
    },
    {
      "cell_type": "markdown",
      "metadata": {
        "id": "H9K3whwtYBFr"
      },
      "source": [
        "# Welcome to NHSX Coding Club\r\n",
        "\r\n",
        "## Lesson One: trashPanda\r\n",
        "\r\n",
        "### Pandas for excel"
      ]
    },
    {
      "cell_type": "code",
      "metadata": {
        "id": "U-ZQGbA4YUPb",
        "outputId": "5aa57b21-1b1f-4631-84f1-84bc8b58ff59",
        "colab": {
          "base_uri": "https://localhost:8080/"
        }
      },
      "source": [
        "!git clone -l -s git://github.com/nhs-pycom/coding-club-trashPanda.git cloned-repo\r\n",
        "%cd cloned-repo\r\n",
        "!ls"
      ],
      "execution_count": 1,
      "outputs": [
        {
          "output_type": "stream",
          "text": [
            "Cloning into 'cloned-repo'...\n",
            "warning: --local is ignored\n",
            "remote: Enumerating objects: 39, done.\u001b[K\n",
            "remote: Counting objects: 100% (39/39), done.\u001b[K\n",
            "remote: Compressing objects: 100% (32/32), done.\u001b[K\n",
            "remote: Total 39 (delta 13), reused 21 (delta 7), pack-reused 0\u001b[K\n",
            "Receiving objects: 100% (39/39), 65.08 KiB | 380.00 KiB/s, done.\n",
            "Resolving deltas: 100% (13/13), done.\n",
            "/content/cloned-repo\n",
            "coding-club.ipynb  data  LICENSE  README.md\n"
          ],
          "name": "stdout"
        }
      ]
    },
    {
      "cell_type": "code",
      "metadata": {
        "id": "_yoSwdH7ZZ0k",
        "outputId": "8fa2b4f0-5141-4af0-c92c-a62f8f1559a4",
        "colab": {
          "base_uri": "https://localhost:8080/",
          "height": 604
        }
      },
      "source": [
        "import pandas as pd\r\n",
        "\r\n",
        "path = '/content/cloned-repo/data/tabular structure/Q1 Returns/Jan 2021.xlsx'\r\n",
        "df = pd.read_excel(path)\r\n",
        "df"
      ],
      "execution_count": 3,
      "outputs": [
        {
          "output_type": "execute_result",
          "data": {
            "text/html": [
              "<div>\n",
              "<style scoped>\n",
              "    .dataframe tbody tr th:only-of-type {\n",
              "        vertical-align: middle;\n",
              "    }\n",
              "\n",
              "    .dataframe tbody tr th {\n",
              "        vertical-align: top;\n",
              "    }\n",
              "\n",
              "    .dataframe thead th {\n",
              "        text-align: right;\n",
              "    }\n",
              "</style>\n",
              "<table border=\"1\" class=\"dataframe\">\n",
              "  <thead>\n",
              "    <tr style=\"text-align: right;\">\n",
              "      <th></th>\n",
              "      <th>Org name:</th>\n",
              "      <th>Population:</th>\n",
              "      <th>Number of users:</th>\n",
              "      <th>Completed by:</th>\n",
              "      <th>Number of deployments:</th>\n",
              "      <th>Number of unique users:</th>\n",
              "      <th>Area name:</th>\n",
              "      <th>Number of records:</th>\n",
              "      <th>Number of views:</th>\n",
              "      <th>Date completed:</th>\n",
              "      <th>Number of errors:</th>\n",
              "    </tr>\n",
              "  </thead>\n",
              "  <tbody>\n",
              "    <tr>\n",
              "      <th>0</th>\n",
              "      <td>NHS CCG80</td>\n",
              "      <td>5028324</td>\n",
              "      <td>7580834</td>\n",
              "      <td>User51</td>\n",
              "      <td>573766</td>\n",
              "      <td>7916889</td>\n",
              "      <td>LA19</td>\n",
              "      <td>4836331</td>\n",
              "      <td>75242</td>\n",
              "      <td>2021-01-01</td>\n",
              "      <td>4337039</td>\n",
              "    </tr>\n",
              "    <tr>\n",
              "      <th>1</th>\n",
              "      <td>NHS CCG30</td>\n",
              "      <td>5576609</td>\n",
              "      <td>6015460</td>\n",
              "      <td>User18</td>\n",
              "      <td>9008336</td>\n",
              "      <td>5566608</td>\n",
              "      <td>LA82</td>\n",
              "      <td>1071840</td>\n",
              "      <td>8327830</td>\n",
              "      <td>2021-01-02</td>\n",
              "      <td>1235495</td>\n",
              "    </tr>\n",
              "    <tr>\n",
              "      <th>2</th>\n",
              "      <td>NHS CCG14</td>\n",
              "      <td>7003085</td>\n",
              "      <td>3030247</td>\n",
              "      <td>User13</td>\n",
              "      <td>4766644</td>\n",
              "      <td>2736534</td>\n",
              "      <td>LA69</td>\n",
              "      <td>1595565</td>\n",
              "      <td>8780011</td>\n",
              "      <td>2021-01-03</td>\n",
              "      <td>9508660</td>\n",
              "    </tr>\n",
              "    <tr>\n",
              "      <th>3</th>\n",
              "      <td>NHS CCG79</td>\n",
              "      <td>6442678</td>\n",
              "      <td>917949</td>\n",
              "      <td>User35</td>\n",
              "      <td>9251515</td>\n",
              "      <td>8881993</td>\n",
              "      <td>LA42</td>\n",
              "      <td>5903625</td>\n",
              "      <td>3382736</td>\n",
              "      <td>2021-01-04</td>\n",
              "      <td>9574924</td>\n",
              "    </tr>\n",
              "    <tr>\n",
              "      <th>4</th>\n",
              "      <td>NHS CCG88</td>\n",
              "      <td>6086618</td>\n",
              "      <td>7182337</td>\n",
              "      <td>User62</td>\n",
              "      <td>2341285</td>\n",
              "      <td>3065153</td>\n",
              "      <td>LA38</td>\n",
              "      <td>5014954</td>\n",
              "      <td>7751733</td>\n",
              "      <td>2021-01-05</td>\n",
              "      <td>9415369</td>\n",
              "    </tr>\n",
              "    <tr>\n",
              "      <th>5</th>\n",
              "      <td>NHS CCG53</td>\n",
              "      <td>2409241</td>\n",
              "      <td>1205962</td>\n",
              "      <td>User84</td>\n",
              "      <td>8397028</td>\n",
              "      <td>8004771</td>\n",
              "      <td>LA92</td>\n",
              "      <td>3376589</td>\n",
              "      <td>3414021</td>\n",
              "      <td>2021-01-06</td>\n",
              "      <td>5523357</td>\n",
              "    </tr>\n",
              "    <tr>\n",
              "      <th>6</th>\n",
              "      <td>NHS CCG55</td>\n",
              "      <td>3079321</td>\n",
              "      <td>3615683</td>\n",
              "      <td>User18</td>\n",
              "      <td>4531139</td>\n",
              "      <td>2322380</td>\n",
              "      <td>LA42</td>\n",
              "      <td>3089611</td>\n",
              "      <td>1765394</td>\n",
              "      <td>2021-01-07</td>\n",
              "      <td>8493485</td>\n",
              "    </tr>\n",
              "    <tr>\n",
              "      <th>7</th>\n",
              "      <td>NHS CCG29</td>\n",
              "      <td>7123329</td>\n",
              "      <td>6591255</td>\n",
              "      <td>User45</td>\n",
              "      <td>8111147</td>\n",
              "      <td>4344178</td>\n",
              "      <td>LA12</td>\n",
              "      <td>6313359</td>\n",
              "      <td>3256149</td>\n",
              "      <td>2021-01-08</td>\n",
              "      <td>9240904</td>\n",
              "    </tr>\n",
              "    <tr>\n",
              "      <th>8</th>\n",
              "      <td>NHS CCG87</td>\n",
              "      <td>3907967</td>\n",
              "      <td>621446</td>\n",
              "      <td>User1</td>\n",
              "      <td>9246567</td>\n",
              "      <td>6035821</td>\n",
              "      <td>LA57</td>\n",
              "      <td>1430908</td>\n",
              "      <td>2955259</td>\n",
              "      <td>2021-01-09</td>\n",
              "      <td>3828951</td>\n",
              "    </tr>\n",
              "    <tr>\n",
              "      <th>9</th>\n",
              "      <td>NHS CCG96</td>\n",
              "      <td>4481652</td>\n",
              "      <td>9958222</td>\n",
              "      <td>User99</td>\n",
              "      <td>3621404</td>\n",
              "      <td>3668487</td>\n",
              "      <td>LA37</td>\n",
              "      <td>5070445</td>\n",
              "      <td>5159556</td>\n",
              "      <td>2021-01-10</td>\n",
              "      <td>3162523</td>\n",
              "    </tr>\n",
              "    <tr>\n",
              "      <th>10</th>\n",
              "      <td>NHS CCG21</td>\n",
              "      <td>5474666</td>\n",
              "      <td>7584544</td>\n",
              "      <td>User74</td>\n",
              "      <td>6161094</td>\n",
              "      <td>1037189</td>\n",
              "      <td>LA97</td>\n",
              "      <td>3999329</td>\n",
              "      <td>4714920</td>\n",
              "      <td>2021-01-11</td>\n",
              "      <td>3752305</td>\n",
              "    </tr>\n",
              "  </tbody>\n",
              "</table>\n",
              "</div>"
            ],
            "text/plain": [
              "    Org name:  Population:  ...  Date completed: Number of errors:\n",
              "0   NHS CCG80      5028324  ...       2021-01-01           4337039\n",
              "1   NHS CCG30      5576609  ...       2021-01-02           1235495\n",
              "2   NHS CCG14      7003085  ...       2021-01-03           9508660\n",
              "3   NHS CCG79      6442678  ...       2021-01-04           9574924\n",
              "4   NHS CCG88      6086618  ...       2021-01-05           9415369\n",
              "5   NHS CCG53      2409241  ...       2021-01-06           5523357\n",
              "6   NHS CCG55      3079321  ...       2021-01-07           8493485\n",
              "7   NHS CCG29      7123329  ...       2021-01-08           9240904\n",
              "8   NHS CCG87      3907967  ...       2021-01-09           3828951\n",
              "9   NHS CCG96      4481652  ...       2021-01-10           3162523\n",
              "10  NHS CCG21      5474666  ...       2021-01-11           3752305\n",
              "\n",
              "[11 rows x 11 columns]"
            ]
          },
          "metadata": {
            "tags": []
          },
          "execution_count": 3
        }
      ]
    },
    {
      "cell_type": "code",
      "metadata": {
        "id": "tpFBpibGPm6O"
      },
      "source": [
        "# import some libs\n",
        "import os\n",
        "from datetime import datetime\n",
        "from fnmatch import fnmatch\n",
        "import pandas as pd\n",
        "from openpyxl import load_workbook"
      ],
      "execution_count": null,
      "outputs": []
    },
    {
      "cell_type": "code",
      "metadata": {
        "id": "PA-Lg7H9Pm6S"
      },
      "source": [
        "df = pd.DataFrame(\n",
        "    columns=[\n",
        "        \"file\",\n",
        "        \"mod_date\",\n",
        "        \"sheet\",\n",
        "        \"Author\",\n",
        "        \"Date completed\",\n",
        "        \"Population\",\n",
        "        \"Number of \",\n",
        "        \"Number of \",\n",
        "        \"Number of \",\n",
        "        \"Number of \",\n",
        "    ]\n",
        ")\n",
        "df"
      ],
      "execution_count": null,
      "outputs": []
    },
    {
      "cell_type": "code",
      "metadata": {
        "id": "7H0MQ_X_Pm6S"
      },
      "source": [
        "path = \"data/\"\n",
        "my_filenames = [\n",
        "    os.path.join(root, name)\n",
        "    for root, dirs, files in os.walk(path)\n",
        "    for name in files\n",
        "    if name.endswith((\".xlsx\"))\n",
        "]\n",
        "my_filenames"
      ],
      "execution_count": null,
      "outputs": []
    },
    {
      "cell_type": "code",
      "metadata": {
        "id": "3gxSp5tsPm6T"
      },
      "source": [
        "for filename in my_filenames:\n",
        "    wb = load_workbook(filename)\n",
        "    sheet_list = [sheet for sheet in wb.sheetnames if fnmatch(sheet, \"*Data*\")]\n",
        "sheet_list"
      ],
      "execution_count": null,
      "outputs": []
    },
    {
      "cell_type": "code",
      "metadata": {
        "id": "vi39i13HPm6T"
      },
      "source": [
        "# last modified datex\n",
        "time_stamp = os.path.getmtime(my_filenames[1])\n",
        "print(time_stamp)"
      ],
      "execution_count": null,
      "outputs": []
    },
    {
      "cell_type": "code",
      "metadata": {
        "id": "2rzllSftPm6T"
      },
      "source": [
        "# last modified date\n",
        "mod_date = datetime.fromtimestamp(time_stamp).strftime(\"%Y-%m-%d\")\n",
        "print(mod_date)"
      ],
      "execution_count": null,
      "outputs": []
    },
    {
      "cell_type": "code",
      "metadata": {
        "id": "xy1UAOapPm6T"
      },
      "source": [
        "sheet_title = wb[sheet_list[1]].title\n",
        "print(sheet_title)"
      ],
      "execution_count": null,
      "outputs": []
    },
    {
      "cell_type": "code",
      "metadata": {
        "id": "ZBujuvaYPm6T"
      },
      "source": [
        "cell_value = wb[sheet_list[1]][\"B2\"].value\n",
        "print(cell_value)"
      ],
      "execution_count": null,
      "outputs": []
    },
    {
      "cell_type": "code",
      "metadata": {
        "id": "6NwzFcxAPm6T"
      },
      "source": [
        "df1 = df.append(\n",
        "    {\n",
        "        \"file\": my_filenames[1],\n",
        "        \"mod_date\": mod_date,\n",
        "        \"sheet\": wb[sheet_list[1]].title,\n",
        "        \"Author\": wb[sheet_list[1]][\"F1\"].value,\n",
        "        \"Date completed\": wb[sheet_list[1]][\"H1\"].value,\n",
        "        \"Population\": wb[sheet_list[1]][\"B2\"].value,\n",
        "        \"Number of \": wb[sheet_list[1]][\"E2\"].value,\n",
        "        \"Number of \": wb[sheet_list[1]][\"B3\"].value,\n",
        "        \"Number of \": wb[sheet_list[1]][\"D3\"].value,\n",
        "        \"Number of \": wb[sheet_list[1]][\"F3\"].value,\n",
        "    },\n",
        "    ignore_index=True,\n",
        ")\n",
        "df1"
      ],
      "execution_count": null,
      "outputs": []
    },
    {
      "cell_type": "code",
      "metadata": {
        "id": "c92QGKBTPm6U"
      },
      "source": [
        "# loop\n",
        "for filename in my_filenames:\n",
        "    wb = load_workbook(filename)\n",
        "    sheet_list = [sheet for sheet in wb.sheetnames if fnmatch(sheet, \"*Data*\")]\n",
        "    # last modified date\n",
        "    mod_date = datetime.fromtimestamp(os.path.getmtime(filename)).strftime(\"%Y-%m-%d\")\n",
        "    for sheet in sheet_list:\n",
        "        df2 = df.append(\n",
        "            {\n",
        "                \"file\": filename,\n",
        "                \"mod_date\": mod_date,\n",
        "                \"sheet\": wb[sheet].title,\n",
        "                \"Author\": wb[sheet][\"F1\"].value,\n",
        "                \"Date completed\": wb[sheet][\"H1\"].value,\n",
        "                \"Population\": wb[sheet][\"B2\"].value,\n",
        "                \"Number of \": wb[sheet][\"E2\"].value,\n",
        "                \"Number of \": wb[sheet][\"B3\"].value,\n",
        "                \"Number of \": wb[sheet][\"D3\"].value,\n",
        "                \"Number of \": wb[sheet][\"F3\"].value,\n",
        "            },\n",
        "            ignore_index=True,\n",
        "        )\n",
        "df2"
      ],
      "execution_count": null,
      "outputs": []
    },
    {
      "cell_type": "code",
      "metadata": {
        "id": "0MRsKJZakPzw"
      },
      "source": [
        "import os\r\n",
        "import yaml\r\n",
        "import pandas as pd\r\n",
        "from openpyxl import load_workbook\r\n",
        "from datetime import datetime\r\n",
        "from fnmatch import fnmatch\r\n",
        "from fuzzywuzzy import process\r\n",
        "from fuzzywuzzy import fuzz\r\n",
        "\r\n",
        "config = 'config.yaml'\r\n",
        "with open(config, \"r\") as yamlfile:\r\n",
        "    configs = yaml.load(yamlfile, Loader=yaml.FullLoader)\r\n",
        "\r\n",
        "path = \"data/\"\r\n",
        "df = pd.DataFrame(columns=configs['Column Names'])\r\n",
        "dictionary = {}\r\n",
        "limit = 1   # Number of results to return\r\n",
        "cutoff = 80 # % similarity\r\n",
        "\r\n",
        "my_filenames = [\r\n",
        "    os.path.join(root, name)\r\n",
        "    for root, dirs, files in os.walk(path)\r\n",
        "    for name in files\r\n",
        "    if name.endswith((\".xlsx\"))\r\n",
        "]\r\n",
        "# loop files\r\n",
        "for filename in my_filenames:\r\n",
        "    wb = load_workbook(filename)\r\n",
        "    dictionary[\"file\"] = filename\r\n",
        "    sheet_list = [sheet for sheet in wb.sheetnames if fnmatch(sheet, configs[\"Sheet\"])]\r\n",
        "    # last modified date\r\n",
        "    mod_date = datetime.fromtimestamp(os.path.getmtime(filename))\r\n",
        "    dictionary[\"Modified date\"] = mod_date\r\n",
        "    # loop sheets\r\n",
        "    for sheet in sheet_list:\r\n",
        "        dictionary[\"sheet\"] = sheet\r\n",
        "        df_sheet = pd.read_excel(\r\n",
        "            filename,\r\n",
        "            sheet_name=sheet,\r\n",
        "            engine=\"openpyxl\",\r\n",
        "            index_col=None,\r\n",
        "            header=None,\r\n",
        "            nrows=configs[\"Rows\"],\r\n",
        "        )\r\n",
        "        for row in list(range(0, configs[\"Rows\"])):\r\n",
        "            for name in configs['Column Names']:\r\n",
        "                match = process.extractBests(\r\n",
        "                    name,\r\n",
        "                    df_sheet.iloc[row],\r\n",
        "                    limit=limit,\r\n",
        "                    scorer=fuzz.token_sort_ratio,\r\n",
        "                    score_cutoff=cutoff,\r\n",
        "                )\r\n",
        "                if match:\r\n",
        "                    location = [i for i, x in enumerate(df_sheet.iloc[row] == match[0][0]) if x]\r\n",
        "                    result = df_sheet.iloc[row][location[0] + 1]\r\n",
        "                    dictionary[name] = result\r\n",
        "        df = df.append(dictionary, ignore_index=True)\r\n",
        "df"
      ],
      "execution_count": null,
      "outputs": []
    },
    {
      "cell_type": "code",
      "metadata": {
        "id": "2rKURpmvPm6U"
      },
      "source": [
        "# call function\n",
        "path = \"data/\"\n",
        "df = trashPanda(path)\n",
        "df.to_csv(r'data/output.csv')"
      ],
      "execution_count": null,
      "outputs": []
    }
  ]
}