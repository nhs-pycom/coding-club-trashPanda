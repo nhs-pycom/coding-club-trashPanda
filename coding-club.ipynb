{
 "metadata": {
  "language_info": {
   "codemirror_mode": {
    "name": "ipython",
    "version": 3
   },
   "file_extension": ".py",
   "mimetype": "text/x-python",
   "name": "python",
   "nbconvert_exporter": "python",
   "pygments_lexer": "ipython3",
   "version": "3.8.5-final"
  },
  "orig_nbformat": 2,
  "kernelspec": {
   "name": "python3",
   "display_name": "Python 3",
   "language": "python"
  }
 },
 "nbformat": 4,
 "nbformat_minor": 2,
 "cells": [
  {
   "cell_type": "code",
   "execution_count": null,
   "metadata": {},
   "outputs": [],
   "source": [
    "# import some libs\n",
    "import os\n",
    "from datetime import datetime\n",
    "from fnmatch import fnmatch\n",
    "import pandas as pd\n",
    "from openpyxl import load_workbook"
   ]
  },
  {
   "cell_type": "code",
   "execution_count": null,
   "metadata": {},
   "outputs": [],
   "source": [
    "df = pd.DataFrame(\n",
    "    columns=[\n",
    "        \"file\",\n",
    "        \"mod_date\",\n",
    "        \"sheet\",\n",
    "        \"Author\",\n",
    "        \"Date completed\",\n",
    "        \"Population\",\n",
    "        \"Number of \",\n",
    "        \"Number of \",\n",
    "        \"Number of \",\n",
    "        \"Number of \",\n",
    "    ]\n",
    ")\n",
    "df"
   ]
  },
  {
   "cell_type": "code",
   "execution_count": null,
   "metadata": {},
   "outputs": [],
   "source": [
    "path = \"data/\"\n",
    "my_filenames = [\n",
    "    os.path.join(root, name)\n",
    "    for root, dirs, files in os.walk(path)\n",
    "    for name in files\n",
    "    if name.endswith((\".xlsx\"))\n",
    "]\n",
    "my_filenames"
   ]
  },
  {
   "cell_type": "code",
   "execution_count": null,
   "metadata": {},
   "outputs": [],
   "source": [
    "for filename in my_filenames:\n",
    "    wb = load_workbook(filename)\n",
    "    sheet_list = [sheet for sheet in wb.sheetnames if fnmatch(sheet, \"*Data*\")]\n",
    "sheet_list"
   ]
  },
  {
   "cell_type": "code",
   "execution_count": null,
   "metadata": {},
   "outputs": [],
   "source": [
    "# last modified datex\n",
    "time_stamp = os.path.getmtime(my_filenames[1])\n",
    "print(time_stamp)"
   ]
  },
  {
   "cell_type": "code",
   "execution_count": null,
   "metadata": {},
   "outputs": [],
   "source": [
    "# last modified date\n",
    "mod_date = datetime.fromtimestamp(time_stamp).strftime(\"%Y-%m-%d\")\n",
    "print(mod_date)"
   ]
  },
  {
   "cell_type": "code",
   "execution_count": null,
   "metadata": {},
   "outputs": [],
   "source": [
    "sheet_title = wb[sheet_list[1]].title\n",
    "print(sheet_title)"
   ]
  },
  {
   "cell_type": "code",
   "execution_count": null,
   "metadata": {},
   "outputs": [],
   "source": [
    "cell_value = wb[sheet_list[1]][\"B2\"].value\n",
    "print(cell_value)"
   ]
  },
  {
   "cell_type": "code",
   "execution_count": null,
   "metadata": {},
   "outputs": [],
   "source": [
    "df1 = df.append(\n",
    "    {\n",
    "        \"file\": my_filenames[1],\n",
    "        \"mod_date\": mod_date,\n",
    "        \"sheet\": wb[sheet_list[1]].title,\n",
    "        \"Author\": wb[sheet_list[1]][\"F1\"].value,\n",
    "        \"Date completed\": wb[sheet_list[1]][\"H1\"].value,\n",
    "        \"Population\": wb[sheet_list[1]][\"B2\"].value,\n",
    "        \"Number of \": wb[sheet_list[1]][\"E2\"].value,\n",
    "        \"Number of \": wb[sheet_list[1]][\"B3\"].value,\n",
    "        \"Number of \": wb[sheet_list[1]][\"D3\"].value,\n",
    "        \"Number of \": wb[sheet_list[1]][\"F3\"].value,\n",
    "    },\n",
    "    ignore_index=True,\n",
    ")\n",
    "df1"
   ]
  },
  {
   "cell_type": "code",
   "execution_count": null,
   "metadata": {},
   "outputs": [],
   "source": [
    "# loop\n",
    "for filename in my_filenames:\n",
    "    wb = load_workbook(filename)\n",
    "    sheet_list = [sheet for sheet in wb.sheetnames if fnmatch(sheet, \"*Data*\")]\n",
    "    # last modified date\n",
    "    mod_date = datetime.fromtimestamp(os.path.getmtime(filename)).strftime(\"%Y-%m-%d\")\n",
    "    for sheet in sheet_list:\n",
    "        df2 = df.append(\n",
    "            {\n",
    "                \"file\": filename,\n",
    "                \"mod_date\": mod_date,\n",
    "                \"sheet\": wb[sheet].title,\n",
    "                \"Author\": wb[sheet][\"F1\"].value,\n",
    "                \"Date completed\": wb[sheet][\"H1\"].value,\n",
    "                \"Population\": wb[sheet][\"B2\"].value,\n",
    "                \"Number of \": wb[sheet][\"E2\"].value,\n",
    "                \"Number of \": wb[sheet][\"B3\"].value,\n",
    "                \"Number of \": wb[sheet][\"D3\"].value,\n",
    "                \"Number of \": wb[sheet][\"F3\"].value,\n",
    "            },\n",
    "            ignore_index=True,\n",
    "        )\n",
    "df2"
   ]
  },
  {
   "cell_type": "code",
   "execution_count": null,
   "metadata": {},
   "outputs": [],
   "source": [
    "# excel ingest function\n",
    "\n",
    "def trashPanda(path):\n",
    "    \"\"\"Searches root directory for all excel files, extracts data and returns structured pandas dataframe.\"\"\"\n",
    "    my_filenames = [\n",
    "        os.path.join(root, name)\n",
    "        for root, dirs, files in os.walk(path)\n",
    "        for name in files\n",
    "        if name.endswith((\".xlsx\"))\n",
    "    ]\n",
    "    df = pd.DataFrame(\n",
    "        columns=[\n",
    "            \"file\",\n",
    "            \"mod_date\",\n",
    "            \"sheet\",\n",
    "            \"Author\",\n",
    "            \"Date completed\",\n",
    "            \"Population\",\n",
    "            \"Number of \",\n",
    "            \"Number of \",\n",
    "            \"Number of \",\n",
    "            \"Number of \",\n",
    "        ]\n",
    "    )\n",
    "    for filename in my_filenames:\n",
    "        wb = load_workbook(filename)\n",
    "        sheet_list = [\n",
    "            sheet for sheet in wb.sheetnames if fnmatch(sheet, \"*March 2021*\")\n",
    "        ]\n",
    "        # last modified date\n",
    "        mod_date = datetime.fromtimestamp(os.path.getmtime(filename)).strftime(\n",
    "            \"%Y-%m-%d\"\n",
    "        )\n",
    "        for sheet in sheet_list:\n",
    "            df = df.append(\n",
    "                {\n",
    "                \"file\": filename,\n",
    "                \"mod_date\": mod_date,\n",
    "                \"sheet\": wb[sheet].title,\n",
    "                \"Author\": wb[sheet][\"F1\"].value,\n",
    "                \"Date completed\": wb[sheet][\"H1\"].value,\n",
    "                \"Population\": wb[sheet][\"B2\"].value,\n",
    "                \"Number of \": wb[sheet][\"E2\"].value,\n",
    "                \"Number of \": wb[sheet][\"B3\"].value,\n",
    "                \"Number of \": wb[sheet][\"D3\"].value,\n",
    "                \"Number of \": wb[sheet][\"F3\"].value,\n",
    "                },\n",
    "                ignore_index=True,\n",
    "            )\n",
    "    return df"
   ]
  },
  {
   "cell_type": "code",
   "execution_count": null,
   "metadata": {},
   "outputs": [],
   "source": [
    "# call function\n",
    "path = \"data/\"\n",
    "df = trashPanda(path)\n",
    "df.to_csv(r'data/output.csv')"
   ]
  }
 ]
}