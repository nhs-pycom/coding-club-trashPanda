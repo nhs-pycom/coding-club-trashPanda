{
  "nbformat": 4,
  "nbformat_minor": 0,
  "metadata": {
    "language_info": {
      "codemirror_mode": {
        "name": "ipython",
        "version": 3
      },
      "file_extension": ".py",
      "mimetype": "text/x-python",
      "name": "python",
      "nbconvert_exporter": "python",
      "pygments_lexer": "ipython3",
      "version": "3.8.5-final"
    },
    "orig_nbformat": 2,
    "kernelspec": {
      "name": "python3",
      "display_name": "Python 3",
      "language": "python"
    },
    "colab": {
      "name": "coding-club.ipynb",
      "provenance": [],
      "include_colab_link": true
    }
  },
  "cells": [
    {
      "cell_type": "markdown",
      "metadata": {
        "id": "view-in-github",
        "colab_type": "text"
      },
      "source": [
        "<a href=\"https://colab.research.google.com/github/nhs-pycom/coding-club-trashPanda/blob/main/coding-club.ipynb\" target=\"_parent\"><img src=\"https://colab.research.google.com/assets/colab-badge.svg\" alt=\"Open In Colab\"/></a>"
      ]
    },
    {
      "cell_type": "code",
      "metadata": {
        "id": "tpFBpibGPm6O"
      },
      "source": [
        "# import some libs\n",
        "import os\n",
        "from datetime import datetime\n",
        "from fnmatch import fnmatch\n",
        "import pandas as pd\n",
        "from openpyxl import load_workbook"
      ],
      "execution_count": null,
      "outputs": []
    },
    {
      "cell_type": "code",
      "metadata": {
        "id": "PA-Lg7H9Pm6S"
      },
      "source": [
        "df = pd.DataFrame(\n",
        "    columns=[\n",
        "        \"file\",\n",
        "        \"mod_date\",\n",
        "        \"sheet\",\n",
        "        \"Author\",\n",
        "        \"Date completed\",\n",
        "        \"Population\",\n",
        "        \"Number of \",\n",
        "        \"Number of \",\n",
        "        \"Number of \",\n",
        "        \"Number of \",\n",
        "    ]\n",
        ")\n",
        "df"
      ],
      "execution_count": null,
      "outputs": []
    },
    {
      "cell_type": "code",
      "metadata": {
        "id": "7H0MQ_X_Pm6S"
      },
      "source": [
        "path = \"data/\"\n",
        "my_filenames = [\n",
        "    os.path.join(root, name)\n",
        "    for root, dirs, files in os.walk(path)\n",
        "    for name in files\n",
        "    if name.endswith((\".xlsx\"))\n",
        "]\n",
        "my_filenames"
      ],
      "execution_count": null,
      "outputs": []
    },
    {
      "cell_type": "code",
      "metadata": {
        "id": "3gxSp5tsPm6T"
      },
      "source": [
        "for filename in my_filenames:\n",
        "    wb = load_workbook(filename)\n",
        "    sheet_list = [sheet for sheet in wb.sheetnames if fnmatch(sheet, \"*Data*\")]\n",
        "sheet_list"
      ],
      "execution_count": null,
      "outputs": []
    },
    {
      "cell_type": "code",
      "metadata": {
        "id": "vi39i13HPm6T"
      },
      "source": [
        "# last modified datex\n",
        "time_stamp = os.path.getmtime(my_filenames[1])\n",
        "print(time_stamp)"
      ],
      "execution_count": null,
      "outputs": []
    },
    {
      "cell_type": "code",
      "metadata": {
        "id": "2rzllSftPm6T"
      },
      "source": [
        "# last modified date\n",
        "mod_date = datetime.fromtimestamp(time_stamp).strftime(\"%Y-%m-%d\")\n",
        "print(mod_date)"
      ],
      "execution_count": null,
      "outputs": []
    },
    {
      "cell_type": "code",
      "metadata": {
        "id": "xy1UAOapPm6T"
      },
      "source": [
        "sheet_title = wb[sheet_list[1]].title\n",
        "print(sheet_title)"
      ],
      "execution_count": null,
      "outputs": []
    },
    {
      "cell_type": "code",
      "metadata": {
        "id": "ZBujuvaYPm6T"
      },
      "source": [
        "cell_value = wb[sheet_list[1]][\"B2\"].value\n",
        "print(cell_value)"
      ],
      "execution_count": null,
      "outputs": []
    },
    {
      "cell_type": "code",
      "metadata": {
        "id": "6NwzFcxAPm6T"
      },
      "source": [
        "df1 = df.append(\n",
        "    {\n",
        "        \"file\": my_filenames[1],\n",
        "        \"mod_date\": mod_date,\n",
        "        \"sheet\": wb[sheet_list[1]].title,\n",
        "        \"Author\": wb[sheet_list[1]][\"F1\"].value,\n",
        "        \"Date completed\": wb[sheet_list[1]][\"H1\"].value,\n",
        "        \"Population\": wb[sheet_list[1]][\"B2\"].value,\n",
        "        \"Number of \": wb[sheet_list[1]][\"E2\"].value,\n",
        "        \"Number of \": wb[sheet_list[1]][\"B3\"].value,\n",
        "        \"Number of \": wb[sheet_list[1]][\"D3\"].value,\n",
        "        \"Number of \": wb[sheet_list[1]][\"F3\"].value,\n",
        "    },\n",
        "    ignore_index=True,\n",
        ")\n",
        "df1"
      ],
      "execution_count": null,
      "outputs": []
    },
    {
      "cell_type": "code",
      "metadata": {
        "id": "c92QGKBTPm6U"
      },
      "source": [
        "# loop\n",
        "for filename in my_filenames:\n",
        "    wb = load_workbook(filename)\n",
        "    sheet_list = [sheet for sheet in wb.sheetnames if fnmatch(sheet, \"*Data*\")]\n",
        "    # last modified date\n",
        "    mod_date = datetime.fromtimestamp(os.path.getmtime(filename)).strftime(\"%Y-%m-%d\")\n",
        "    for sheet in sheet_list:\n",
        "        df2 = df.append(\n",
        "            {\n",
        "                \"file\": filename,\n",
        "                \"mod_date\": mod_date,\n",
        "                \"sheet\": wb[sheet].title,\n",
        "                \"Author\": wb[sheet][\"F1\"].value,\n",
        "                \"Date completed\": wb[sheet][\"H1\"].value,\n",
        "                \"Population\": wb[sheet][\"B2\"].value,\n",
        "                \"Number of \": wb[sheet][\"E2\"].value,\n",
        "                \"Number of \": wb[sheet][\"B3\"].value,\n",
        "                \"Number of \": wb[sheet][\"D3\"].value,\n",
        "                \"Number of \": wb[sheet][\"F3\"].value,\n",
        "            },\n",
        "            ignore_index=True,\n",
        "        )\n",
        "df2"
      ],
      "execution_count": null,
      "outputs": []
    },
    {
      "cell_type": "code",
      "metadata": {
        "id": "0MRsKJZakPzw"
      },
      "source": [
        "import os\r\n",
        "import yaml\r\n",
        "import pandas as pd\r\n",
        "from openpyxl import load_workbook\r\n",
        "from datetime import datetime\r\n",
        "from fnmatch import fnmatch\r\n",
        "from fuzzywuzzy import process\r\n",
        "from fuzzywuzzy import fuzz\r\n",
        "\r\n",
        "config = 'config.yaml'\r\n",
        "with open(config, \"r\") as yamlfile:\r\n",
        "    configs = yaml.load(yamlfile, Loader=yaml.FullLoader)\r\n",
        "\r\n",
        "path = \"data/\"\r\n",
        "df = pd.DataFrame(columns=configs['Column Names'])\r\n",
        "dictionary = {}\r\n",
        "limit = 1   # Number of results to return\r\n",
        "cutoff = 80 # % similarity\r\n",
        "\r\n",
        "my_filenames = [\r\n",
        "    os.path.join(root, name)\r\n",
        "    for root, dirs, files in os.walk(path)\r\n",
        "    for name in files\r\n",
        "    if name.endswith((\".xlsx\"))\r\n",
        "]\r\n",
        "# loop files\r\n",
        "for filename in my_filenames:\r\n",
        "    wb = load_workbook(filename)\r\n",
        "    dictionary[\"file\"] = filename\r\n",
        "    sheet_list = [sheet for sheet in wb.sheetnames if fnmatch(sheet, configs[\"Sheet\"])]\r\n",
        "    # last modified date\r\n",
        "    mod_date = datetime.fromtimestamp(os.path.getmtime(filename))\r\n",
        "    dictionary[\"Modified date\"] = mod_date\r\n",
        "    # loop sheets\r\n",
        "    for sheet in sheet_list:\r\n",
        "        dictionary[\"sheet\"] = sheet\r\n",
        "        df_sheet = pd.read_excel(\r\n",
        "            filename,\r\n",
        "            sheet_name=sheet,\r\n",
        "            engine=\"openpyxl\",\r\n",
        "            index_col=None,\r\n",
        "            header=None,\r\n",
        "            nrows=configs[\"Rows\"],\r\n",
        "        )\r\n",
        "        for row in list(range(0, configs[\"Rows\"])):\r\n",
        "            for name in configs['Column Names']:\r\n",
        "                match = process.extractBests(\r\n",
        "                    name,\r\n",
        "                    df_sheet.iloc[row],\r\n",
        "                    limit=limit,\r\n",
        "                    scorer=fuzz.token_sort_ratio,\r\n",
        "                    score_cutoff=cutoff,\r\n",
        "                )\r\n",
        "                if match:\r\n",
        "                    location = [i for i, x in enumerate(df_sheet.iloc[row] == match[0][0]) if x]\r\n",
        "                    result = df_sheet.iloc[row][location[0] + 1]\r\n",
        "                    dictionary[name] = result\r\n",
        "        df = df.append(dictionary, ignore_index=True)\r\n",
        "df"
      ],
      "execution_count": null,
      "outputs": []
    },
    {
      "cell_type": "code",
      "metadata": {
        "id": "2rKURpmvPm6U"
      },
      "source": [
        "# call function\n",
        "path = \"data/\"\n",
        "df = trashPanda(path)\n",
        "df.to_csv(r'data/output.csv')"
      ],
      "execution_count": null,
      "outputs": []
    }
  ]
}